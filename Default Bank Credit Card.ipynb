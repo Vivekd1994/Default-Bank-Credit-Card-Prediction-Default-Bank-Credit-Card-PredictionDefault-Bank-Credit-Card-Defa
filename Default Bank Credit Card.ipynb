{
 "cells": [
  {
   "cell_type": "markdown",
   "metadata": {},
   "source": [
    "# Imarticus Project : Bank Credit Card"
   ]
  },
  {
   "cell_type": "markdown",
   "metadata": {},
   "source": [
    "## Problem Statement \n",
    "### The banks with the intent of credit card were more focused on the number of customers using their credit service but the drawback of them not being able to pay back the credit in time was an issue that soon followed, a system was in need to effectively decide the credit limit to be allowed to a person based on his previous credit history. Accuracy, Sensitivity, Specificity and area under the ROC curve. Build a classification model using support vector classifier to predict the credibility of the customer, in order to minimize the risk and maximize the profit of a bank.\n"
   ]
  },
  {
   "cell_type": "markdown",
   "metadata": {},
   "source": [
    "# Step-1 : Reading file and getting familiar with data"
   ]
  },
  {
   "cell_type": "markdown",
   "metadata": {},
   "source": [
    "\n",
    "##  1.1 Imports"
   ]
  },
  {
   "cell_type": "code",
   "execution_count": 54,
   "metadata": {},
   "outputs": [],
   "source": [
    "import pandas as pd\n",
    "import seaborn as sns\n",
    "import matplotlib.pyplot as plt\n",
    "import sklearn\n"
   ]
  },
  {
   "cell_type": "markdown",
   "metadata": {},
   "source": [
    "## 1.2 Reading file\n"
   ]
  },
  {
   "cell_type": "code",
   "execution_count": 55,
   "metadata": {},
   "outputs": [],
   "source": [
    "CCDP=pd.read_csv(r'C:\\Users\\Sahil Wasankar\\Desktop\\Imarticus Final Project\\BankCrediTCard.csv')"
   ]
  },
  {
   "cell_type": "markdown",
   "metadata": {},
   "source": [
    "## 1.3 Checking data shape (row and column count) & observe few of records"
   ]
  },
  {
   "cell_type": "code",
   "execution_count": 3,
   "metadata": {},
   "outputs": [
    {
     "data": {
      "text/html": [
       "<div>\n",
       "<style scoped>\n",
       "    .dataframe tbody tr th:only-of-type {\n",
       "        vertical-align: middle;\n",
       "    }\n",
       "\n",
       "    .dataframe tbody tr th {\n",
       "        vertical-align: top;\n",
       "    }\n",
       "\n",
       "    .dataframe thead th {\n",
       "        text-align: right;\n",
       "    }\n",
       "</style>\n",
       "<table border=\"1\" class=\"dataframe\">\n",
       "  <thead>\n",
       "    <tr style=\"text-align: right;\">\n",
       "      <th></th>\n",
       "      <th>Customer ID</th>\n",
       "      <th>Credit_Amount</th>\n",
       "      <th>Gender</th>\n",
       "      <th>Academic_Qualification</th>\n",
       "      <th>Marital</th>\n",
       "      <th>Age_Years</th>\n",
       "      <th>Repayment_Status_Jan</th>\n",
       "      <th>Repayment_Status_Feb</th>\n",
       "      <th>Repayment_Status_March</th>\n",
       "      <th>Repayment_Status_April</th>\n",
       "      <th>...</th>\n",
       "      <th>April_Bill_Amount</th>\n",
       "      <th>May_Bill_Amount</th>\n",
       "      <th>June_Bill_Amount</th>\n",
       "      <th>Previous_Payment_Jan</th>\n",
       "      <th>Previous_Payment_Feb</th>\n",
       "      <th>Previous_Payment_March</th>\n",
       "      <th>Previous_Payment_April</th>\n",
       "      <th>Previous_Payment_May</th>\n",
       "      <th>Previous_Payment_June</th>\n",
       "      <th>Default_Payment</th>\n",
       "    </tr>\n",
       "  </thead>\n",
       "  <tbody>\n",
       "    <tr>\n",
       "      <th>0</th>\n",
       "      <td>1</td>\n",
       "      <td>20000.0</td>\n",
       "      <td>2</td>\n",
       "      <td>2</td>\n",
       "      <td>1</td>\n",
       "      <td>24</td>\n",
       "      <td>2</td>\n",
       "      <td>2</td>\n",
       "      <td>0</td>\n",
       "      <td>0</td>\n",
       "      <td>...</td>\n",
       "      <td>0.0</td>\n",
       "      <td>0.0</td>\n",
       "      <td>0.0</td>\n",
       "      <td>0.0</td>\n",
       "      <td>679.0</td>\n",
       "      <td>0.0</td>\n",
       "      <td>0.0</td>\n",
       "      <td>0.0</td>\n",
       "      <td>0.0</td>\n",
       "      <td>1</td>\n",
       "    </tr>\n",
       "    <tr>\n",
       "      <th>1</th>\n",
       "      <td>2</td>\n",
       "      <td>220000.0</td>\n",
       "      <td>2</td>\n",
       "      <td>2</td>\n",
       "      <td>2</td>\n",
       "      <td>26</td>\n",
       "      <td>0</td>\n",
       "      <td>2</td>\n",
       "      <td>0</td>\n",
       "      <td>0</td>\n",
       "      <td>...</td>\n",
       "      <td>3272.0</td>\n",
       "      <td>3455.0</td>\n",
       "      <td>3261.0</td>\n",
       "      <td>0.0</td>\n",
       "      <td>2000.0</td>\n",
       "      <td>1000.0</td>\n",
       "      <td>1000.0</td>\n",
       "      <td>0.0</td>\n",
       "      <td>2000.0</td>\n",
       "      <td>1</td>\n",
       "    </tr>\n",
       "    <tr>\n",
       "      <th>2</th>\n",
       "      <td>3</td>\n",
       "      <td>90000.0</td>\n",
       "      <td>2</td>\n",
       "      <td>2</td>\n",
       "      <td>2</td>\n",
       "      <td>34</td>\n",
       "      <td>0</td>\n",
       "      <td>0</td>\n",
       "      <td>0</td>\n",
       "      <td>0</td>\n",
       "      <td>...</td>\n",
       "      <td>24332.0</td>\n",
       "      <td>14848.0</td>\n",
       "      <td>15548.0</td>\n",
       "      <td>1619.0</td>\n",
       "      <td>2500.0</td>\n",
       "      <td>1000.0</td>\n",
       "      <td>1000.0</td>\n",
       "      <td>1000.0</td>\n",
       "      <td>5000.0</td>\n",
       "      <td>0</td>\n",
       "    </tr>\n",
       "    <tr>\n",
       "      <th>3</th>\n",
       "      <td>4</td>\n",
       "      <td>50000.0</td>\n",
       "      <td>2</td>\n",
       "      <td>2</td>\n",
       "      <td>1</td>\n",
       "      <td>37</td>\n",
       "      <td>0</td>\n",
       "      <td>0</td>\n",
       "      <td>0</td>\n",
       "      <td>0</td>\n",
       "      <td>...</td>\n",
       "      <td>29324.0</td>\n",
       "      <td>28858.0</td>\n",
       "      <td>28547.0</td>\n",
       "      <td>3000.0</td>\n",
       "      <td>2029.0</td>\n",
       "      <td>1200.0</td>\n",
       "      <td>1100.0</td>\n",
       "      <td>1069.0</td>\n",
       "      <td>1000.0</td>\n",
       "      <td>0</td>\n",
       "    </tr>\n",
       "    <tr>\n",
       "      <th>4</th>\n",
       "      <td>5</td>\n",
       "      <td>50000.0</td>\n",
       "      <td>1</td>\n",
       "      <td>2</td>\n",
       "      <td>1</td>\n",
       "      <td>57</td>\n",
       "      <td>0</td>\n",
       "      <td>0</td>\n",
       "      <td>0</td>\n",
       "      <td>0</td>\n",
       "      <td>...</td>\n",
       "      <td>20940.0</td>\n",
       "      <td>18146.0</td>\n",
       "      <td>18131.0</td>\n",
       "      <td>3000.0</td>\n",
       "      <td>36672.0</td>\n",
       "      <td>10000.0</td>\n",
       "      <td>9000.0</td>\n",
       "      <td>689.0</td>\n",
       "      <td>679.0</td>\n",
       "      <td>0</td>\n",
       "    </tr>\n",
       "    <tr>\n",
       "      <th>5</th>\n",
       "      <td>6</td>\n",
       "      <td>50000.0</td>\n",
       "      <td>1</td>\n",
       "      <td>1</td>\n",
       "      <td>2</td>\n",
       "      <td>37</td>\n",
       "      <td>0</td>\n",
       "      <td>0</td>\n",
       "      <td>0</td>\n",
       "      <td>0</td>\n",
       "      <td>...</td>\n",
       "      <td>29394.0</td>\n",
       "      <td>18618.0</td>\n",
       "      <td>20024.0</td>\n",
       "      <td>3600.0</td>\n",
       "      <td>2725.0</td>\n",
       "      <td>657.0</td>\n",
       "      <td>1000.0</td>\n",
       "      <td>1000.0</td>\n",
       "      <td>800.0</td>\n",
       "      <td>0</td>\n",
       "    </tr>\n",
       "    <tr>\n",
       "      <th>6</th>\n",
       "      <td>7</td>\n",
       "      <td>500000.0</td>\n",
       "      <td>1</td>\n",
       "      <td>1</td>\n",
       "      <td>2</td>\n",
       "      <td>29</td>\n",
       "      <td>0</td>\n",
       "      <td>0</td>\n",
       "      <td>0</td>\n",
       "      <td>0</td>\n",
       "      <td>...</td>\n",
       "      <td>542653.0</td>\n",
       "      <td>483003.0</td>\n",
       "      <td>473844.0</td>\n",
       "      <td>66000.0</td>\n",
       "      <td>40000.0</td>\n",
       "      <td>59000.0</td>\n",
       "      <td>30339.0</td>\n",
       "      <td>13750.0</td>\n",
       "      <td>13770.0</td>\n",
       "      <td>0</td>\n",
       "    </tr>\n",
       "    <tr>\n",
       "      <th>7</th>\n",
       "      <td>8</td>\n",
       "      <td>200000.0</td>\n",
       "      <td>2</td>\n",
       "      <td>2</td>\n",
       "      <td>2</td>\n",
       "      <td>23</td>\n",
       "      <td>0</td>\n",
       "      <td>0</td>\n",
       "      <td>0</td>\n",
       "      <td>0</td>\n",
       "      <td>...</td>\n",
       "      <td>222.0</td>\n",
       "      <td>-158.0</td>\n",
       "      <td>567.0</td>\n",
       "      <td>390.0</td>\n",
       "      <td>602.0</td>\n",
       "      <td>0.0</td>\n",
       "      <td>581.0</td>\n",
       "      <td>1687.0</td>\n",
       "      <td>1542.0</td>\n",
       "      <td>0</td>\n",
       "    </tr>\n",
       "    <tr>\n",
       "      <th>8</th>\n",
       "      <td>9</td>\n",
       "      <td>240000.0</td>\n",
       "      <td>2</td>\n",
       "      <td>3</td>\n",
       "      <td>1</td>\n",
       "      <td>28</td>\n",
       "      <td>0</td>\n",
       "      <td>0</td>\n",
       "      <td>2</td>\n",
       "      <td>0</td>\n",
       "      <td>...</td>\n",
       "      <td>22222.0</td>\n",
       "      <td>11783.0</td>\n",
       "      <td>3718.0</td>\n",
       "      <td>3339.0</td>\n",
       "      <td>0.0</td>\n",
       "      <td>552.0</td>\n",
       "      <td>1000.0</td>\n",
       "      <td>1000.0</td>\n",
       "      <td>1000.0</td>\n",
       "      <td>0</td>\n",
       "    </tr>\n",
       "    <tr>\n",
       "      <th>9</th>\n",
       "      <td>10</td>\n",
       "      <td>20000.0</td>\n",
       "      <td>1</td>\n",
       "      <td>3</td>\n",
       "      <td>2</td>\n",
       "      <td>35</td>\n",
       "      <td>0</td>\n",
       "      <td>0</td>\n",
       "      <td>0</td>\n",
       "      <td>0</td>\n",
       "      <td>...</td>\n",
       "      <td>0.0</td>\n",
       "      <td>13007.0</td>\n",
       "      <td>13812.0</td>\n",
       "      <td>0.0</td>\n",
       "      <td>0.0</td>\n",
       "      <td>0.0</td>\n",
       "      <td>13007.0</td>\n",
       "      <td>1133.0</td>\n",
       "      <td>0.0</td>\n",
       "      <td>0</td>\n",
       "    </tr>\n",
       "  </tbody>\n",
       "</table>\n",
       "<p>10 rows × 25 columns</p>\n",
       "</div>"
      ],
      "text/plain": [
       "   Customer ID  Credit_Amount  Gender  Academic_Qualification  Marital  \\\n",
       "0            1        20000.0       2                       2        1   \n",
       "1            2       220000.0       2                       2        2   \n",
       "2            3        90000.0       2                       2        2   \n",
       "3            4        50000.0       2                       2        1   \n",
       "4            5        50000.0       1                       2        1   \n",
       "5            6        50000.0       1                       1        2   \n",
       "6            7       500000.0       1                       1        2   \n",
       "7            8       200000.0       2                       2        2   \n",
       "8            9       240000.0       2                       3        1   \n",
       "9           10        20000.0       1                       3        2   \n",
       "\n",
       "   Age_Years  Repayment_Status_Jan  Repayment_Status_Feb  \\\n",
       "0         24                     2                     2   \n",
       "1         26                     0                     2   \n",
       "2         34                     0                     0   \n",
       "3         37                     0                     0   \n",
       "4         57                     0                     0   \n",
       "5         37                     0                     0   \n",
       "6         29                     0                     0   \n",
       "7         23                     0                     0   \n",
       "8         28                     0                     0   \n",
       "9         35                     0                     0   \n",
       "\n",
       "   Repayment_Status_March  Repayment_Status_April  ...  April_Bill_Amount  \\\n",
       "0                       0                       0  ...                0.0   \n",
       "1                       0                       0  ...             3272.0   \n",
       "2                       0                       0  ...            24332.0   \n",
       "3                       0                       0  ...            29324.0   \n",
       "4                       0                       0  ...            20940.0   \n",
       "5                       0                       0  ...            29394.0   \n",
       "6                       0                       0  ...           542653.0   \n",
       "7                       0                       0  ...              222.0   \n",
       "8                       2                       0  ...            22222.0   \n",
       "9                       0                       0  ...                0.0   \n",
       "\n",
       "   May_Bill_Amount  June_Bill_Amount  Previous_Payment_Jan  \\\n",
       "0              0.0               0.0                   0.0   \n",
       "1           3455.0            3261.0                   0.0   \n",
       "2          14848.0           15548.0                1619.0   \n",
       "3          28858.0           28547.0                3000.0   \n",
       "4          18146.0           18131.0                3000.0   \n",
       "5          18618.0           20024.0                3600.0   \n",
       "6         483003.0          473844.0               66000.0   \n",
       "7           -158.0             567.0                 390.0   \n",
       "8          11783.0            3718.0                3339.0   \n",
       "9          13007.0           13812.0                   0.0   \n",
       "\n",
       "   Previous_Payment_Feb  Previous_Payment_March  Previous_Payment_April  \\\n",
       "0                 679.0                     0.0                     0.0   \n",
       "1                2000.0                  1000.0                  1000.0   \n",
       "2                2500.0                  1000.0                  1000.0   \n",
       "3                2029.0                  1200.0                  1100.0   \n",
       "4               36672.0                 10000.0                  9000.0   \n",
       "5                2725.0                   657.0                  1000.0   \n",
       "6               40000.0                 59000.0                 30339.0   \n",
       "7                 602.0                     0.0                   581.0   \n",
       "8                   0.0                   552.0                  1000.0   \n",
       "9                   0.0                     0.0                 13007.0   \n",
       "\n",
       "   Previous_Payment_May  Previous_Payment_June  Default_Payment  \n",
       "0                   0.0                    0.0                1  \n",
       "1                   0.0                 2000.0                1  \n",
       "2                1000.0                 5000.0                0  \n",
       "3                1069.0                 1000.0                0  \n",
       "4                 689.0                  679.0                0  \n",
       "5                1000.0                  800.0                0  \n",
       "6               13750.0                13770.0                0  \n",
       "7                1687.0                 1542.0                0  \n",
       "8                1000.0                 1000.0                0  \n",
       "9                1133.0                    0.0                0  \n",
       "\n",
       "[10 rows x 25 columns]"
      ]
     },
     "execution_count": 3,
     "metadata": {},
     "output_type": "execute_result"
    }
   ],
   "source": [
    "CCDP.head(10)"
   ]
  },
  {
   "cell_type": "code",
   "execution_count": 4,
   "metadata": {},
   "outputs": [
    {
     "data": {
      "text/plain": [
       "(30000, 25)"
      ]
     },
     "execution_count": 4,
     "metadata": {},
     "output_type": "execute_result"
    }
   ],
   "source": [
    "CCDP.shape"
   ]
  },
  {
   "cell_type": "code",
   "execution_count": 56,
   "metadata": {},
   "outputs": [
    {
     "data": {
      "text/plain": [
       "0    23364\n",
       "1     6636\n",
       "Name: Default_Payment, dtype: int64"
      ]
     },
     "execution_count": 56,
     "metadata": {},
     "output_type": "execute_result"
    }
   ],
   "source": [
    "CCDP.Default_Payment.value_counts()"
   ]
  },
  {
   "cell_type": "markdown",
   "metadata": {},
   "source": [
    "## 1.4  Check for Null or missing values"
   ]
  },
  {
   "cell_type": "code",
   "execution_count": 6,
   "metadata": {},
   "outputs": [
    {
     "data": {
      "text/plain": [
       "Customer ID               0\n",
       "Credit_Amount             0\n",
       "Gender                    0\n",
       "Academic_Qualification    0\n",
       "Marital                   0\n",
       "Age_Years                 0\n",
       "Repayment_Status_Jan      0\n",
       "Repayment_Status_Feb      0\n",
       "Repayment_Status_March    0\n",
       "Repayment_Status_April    0\n",
       "Repayment_Status_May      0\n",
       "Repayment_Status_June     0\n",
       "Jan_Bill_Amount           0\n",
       "Feb_Bill_Amount           0\n",
       "March_Bill_Amount         0\n",
       "April_Bill_Amount         0\n",
       "May_Bill_Amount           0\n",
       "June_Bill_Amount          0\n",
       "Previous_Payment_Jan      0\n",
       "Previous_Payment_Feb      0\n",
       "Previous_Payment_March    0\n",
       "Previous_Payment_April    0\n",
       "Previous_Payment_May      0\n",
       "Previous_Payment_June     0\n",
       "Default_Payment           0\n",
       "dtype: int64"
      ]
     },
     "execution_count": 6,
     "metadata": {},
     "output_type": "execute_result"
    }
   ],
   "source": [
    "CCDP.isna().sum()"
   ]
  },
  {
   "cell_type": "markdown",
   "metadata": {},
   "source": [
    "# Step -2 :  Exploratory Data Analysis (EDA)"
   ]
  },
  {
   "cell_type": "markdown",
   "metadata": {},
   "source": [
    "## 2.1 Check for distribution of target variable (Default_Payment)"
   ]
  },
  {
   "cell_type": "code",
   "execution_count": 7,
   "metadata": {},
   "outputs": [
    {
     "name": "stderr",
     "output_type": "stream",
     "text": [
      "C:\\ProgramData\\Anaconda3\\lib\\site-packages\\seaborn\\_decorators.py:36: FutureWarning: Pass the following variable as a keyword arg: x. From version 0.12, the only valid positional argument will be `data`, and passing other arguments without an explicit keyword will result in an error or misinterpretation.\n",
      "  warnings.warn(\n"
     ]
    },
    {
     "data": {
      "text/plain": [
       "<AxesSubplot:xlabel='Default_Payment', ylabel='count'>"
      ]
     },
     "execution_count": 7,
     "metadata": {},
     "output_type": "execute_result"
    },
    {
     "data": {
      "image/png": "[encoded data removed]",
      "text/plain": [
       "<Figure size 432x288 with 1 Axes>"
      ]
     },
     "metadata": {
      "needs_background": "light"
     },
     "output_type": "display_data"
    }
   ],
   "source": [
    "sns.countplot(CCDP['Default_Payment'])"
   ]
  },
  {
   "cell_type": "markdown",
   "metadata": {},
   "source": [
    "Insight Obatained : Here we can see that 23364 records are classified into 0 and 6636 are classified into 1. Problem of Class                       Imbalance Observed."
   ]
  },
  {
   "cell_type": "markdown",
   "metadata": {},
   "source": [
    "## 2.2 Removing Customer ID column"
   ]
  },
  {
   "cell_type": "code",
   "execution_count": 57,
   "metadata": {},
   "outputs": [],
   "source": [
    "CCDP = CCDP.drop(['Customer ID'],axis=1)"
   ]
  },
  {
   "cell_type": "code",
   "execution_count": 9,
   "metadata": {},
   "outputs": [
    {
     "data": {
      "text/html": [
       "<div>\n",
       "<style scoped>\n",
       "    .dataframe tbody tr th:only-of-type {\n",
       "        vertical-align: middle;\n",
       "    }\n",
       "\n",
       "    .dataframe tbody tr th {\n",
       "        vertical-align: top;\n",
       "    }\n",
       "\n",
       "    .dataframe thead th {\n",
       "        text-align: right;\n",
       "    }\n",
       "</style>\n",
       "<table border=\"1\" class=\"dataframe\">\n",
       "  <thead>\n",
       "    <tr style=\"text-align: right;\">\n",
       "      <th></th>\n",
       "      <th>Credit_Amount</th>\n",
       "      <th>Gender</th>\n",
       "      <th>Academic_Qualification</th>\n",
       "      <th>Marital</th>\n",
       "      <th>Age_Years</th>\n",
       "      <th>Repayment_Status_Jan</th>\n",
       "      <th>Repayment_Status_Feb</th>\n",
       "      <th>Repayment_Status_March</th>\n",
       "      <th>Repayment_Status_April</th>\n",
       "      <th>Repayment_Status_May</th>\n",
       "      <th>...</th>\n",
       "      <th>April_Bill_Amount</th>\n",
       "      <th>May_Bill_Amount</th>\n",
       "      <th>June_Bill_Amount</th>\n",
       "      <th>Previous_Payment_Jan</th>\n",
       "      <th>Previous_Payment_Feb</th>\n",
       "      <th>Previous_Payment_March</th>\n",
       "      <th>Previous_Payment_April</th>\n",
       "      <th>Previous_Payment_May</th>\n",
       "      <th>Previous_Payment_June</th>\n",
       "      <th>Default_Payment</th>\n",
       "    </tr>\n",
       "  </thead>\n",
       "  <tbody>\n",
       "    <tr>\n",
       "      <th>0</th>\n",
       "      <td>20000.0</td>\n",
       "      <td>2</td>\n",
       "      <td>2</td>\n",
       "      <td>1</td>\n",
       "      <td>24</td>\n",
       "      <td>2</td>\n",
       "      <td>2</td>\n",
       "      <td>0</td>\n",
       "      <td>0</td>\n",
       "      <td>0</td>\n",
       "      <td>...</td>\n",
       "      <td>0.0</td>\n",
       "      <td>0.0</td>\n",
       "      <td>0.0</td>\n",
       "      <td>0.0</td>\n",
       "      <td>679.0</td>\n",
       "      <td>0.0</td>\n",
       "      <td>0.0</td>\n",
       "      <td>0.0</td>\n",
       "      <td>0.0</td>\n",
       "      <td>1</td>\n",
       "    </tr>\n",
       "    <tr>\n",
       "      <th>1</th>\n",
       "      <td>220000.0</td>\n",
       "      <td>2</td>\n",
       "      <td>2</td>\n",
       "      <td>2</td>\n",
       "      <td>26</td>\n",
       "      <td>0</td>\n",
       "      <td>2</td>\n",
       "      <td>0</td>\n",
       "      <td>0</td>\n",
       "      <td>0</td>\n",
       "      <td>...</td>\n",
       "      <td>3272.0</td>\n",
       "      <td>3455.0</td>\n",
       "      <td>3261.0</td>\n",
       "      <td>0.0</td>\n",
       "      <td>2000.0</td>\n",
       "      <td>1000.0</td>\n",
       "      <td>1000.0</td>\n",
       "      <td>0.0</td>\n",
       "      <td>2000.0</td>\n",
       "      <td>1</td>\n",
       "    </tr>\n",
       "    <tr>\n",
       "      <th>2</th>\n",
       "      <td>90000.0</td>\n",
       "      <td>2</td>\n",
       "      <td>2</td>\n",
       "      <td>2</td>\n",
       "      <td>34</td>\n",
       "      <td>0</td>\n",
       "      <td>0</td>\n",
       "      <td>0</td>\n",
       "      <td>0</td>\n",
       "      <td>0</td>\n",
       "      <td>...</td>\n",
       "      <td>24332.0</td>\n",
       "      <td>14848.0</td>\n",
       "      <td>15548.0</td>\n",
       "      <td>1619.0</td>\n",
       "      <td>2500.0</td>\n",
       "      <td>1000.0</td>\n",
       "      <td>1000.0</td>\n",
       "      <td>1000.0</td>\n",
       "      <td>5000.0</td>\n",
       "      <td>0</td>\n",
       "    </tr>\n",
       "    <tr>\n",
       "      <th>3</th>\n",
       "      <td>50000.0</td>\n",
       "      <td>2</td>\n",
       "      <td>2</td>\n",
       "      <td>1</td>\n",
       "      <td>37</td>\n",
       "      <td>0</td>\n",
       "      <td>0</td>\n",
       "      <td>0</td>\n",
       "      <td>0</td>\n",
       "      <td>0</td>\n",
       "      <td>...</td>\n",
       "      <td>29324.0</td>\n",
       "      <td>28858.0</td>\n",
       "      <td>28547.0</td>\n",
       "      <td>3000.0</td>\n",
       "      <td>2029.0</td>\n",
       "      <td>1200.0</td>\n",
       "      <td>1100.0</td>\n",
       "      <td>1069.0</td>\n",
       "      <td>1000.0</td>\n",
       "      <td>0</td>\n",
       "    </tr>\n",
       "    <tr>\n",
       "      <th>4</th>\n",
       "      <td>50000.0</td>\n",
       "      <td>1</td>\n",
       "      <td>2</td>\n",
       "      <td>1</td>\n",
       "      <td>57</td>\n",
       "      <td>0</td>\n",
       "      <td>0</td>\n",
       "      <td>0</td>\n",
       "      <td>0</td>\n",
       "      <td>0</td>\n",
       "      <td>...</td>\n",
       "      <td>20940.0</td>\n",
       "      <td>18146.0</td>\n",
       "      <td>18131.0</td>\n",
       "      <td>3000.0</td>\n",
       "      <td>36672.0</td>\n",
       "      <td>10000.0</td>\n",
       "      <td>9000.0</td>\n",
       "      <td>689.0</td>\n",
       "      <td>679.0</td>\n",
       "      <td>0</td>\n",
       "    </tr>\n",
       "  </tbody>\n",
       "</table>\n",
       "<p>5 rows × 24 columns</p>\n",
       "</div>"
      ],
      "text/plain": [
       "   Credit_Amount  Gender  Academic_Qualification  Marital  Age_Years  \\\n",
       "0        20000.0       2                       2        1         24   \n",
       "1       220000.0       2                       2        2         26   \n",
       "2        90000.0       2                       2        2         34   \n",
       "3        50000.0       2                       2        1         37   \n",
       "4        50000.0       1                       2        1         57   \n",
       "\n",
       "   Repayment_Status_Jan  Repayment_Status_Feb  Repayment_Status_March  \\\n",
       "0                     2                     2                       0   \n",
       "1                     0                     2                       0   \n",
       "2                     0                     0                       0   \n",
       "3                     0                     0                       0   \n",
       "4                     0                     0                       0   \n",
       "\n",
       "   Repayment_Status_April  Repayment_Status_May  ...  April_Bill_Amount  \\\n",
       "0                       0                     0  ...                0.0   \n",
       "1                       0                     0  ...             3272.0   \n",
       "2                       0                     0  ...            24332.0   \n",
       "3                       0                     0  ...            29324.0   \n",
       "4                       0                     0  ...            20940.0   \n",
       "\n",
       "   May_Bill_Amount  June_Bill_Amount  Previous_Payment_Jan  \\\n",
       "0              0.0               0.0                   0.0   \n",
       "1           3455.0            3261.0                   0.0   \n",
       "2          14848.0           15548.0                1619.0   \n",
       "3          28858.0           28547.0                3000.0   \n",
       "4          18146.0           18131.0                3000.0   \n",
       "\n",
       "   Previous_Payment_Feb  Previous_Payment_March  Previous_Payment_April  \\\n",
       "0                 679.0                     0.0                     0.0   \n",
       "1                2000.0                  1000.0                  1000.0   \n",
       "2                2500.0                  1000.0                  1000.0   \n",
       "3                2029.0                  1200.0                  1100.0   \n",
       "4               36672.0                 10000.0                  9000.0   \n",
       "\n",
       "   Previous_Payment_May  Previous_Payment_June  Default_Payment  \n",
       "0                   0.0                    0.0                1  \n",
       "1                   0.0                 2000.0                1  \n",
       "2                1000.0                 5000.0                0  \n",
       "3                1069.0                 1000.0                0  \n",
       "4                 689.0                  679.0                0  \n",
       "\n",
       "[5 rows x 24 columns]"
      ]
     },
     "execution_count": 9,
     "metadata": {},
     "output_type": "execute_result"
    }
   ],
   "source": [
    "CCDP.head()"
   ]
  },
  {
   "cell_type": "code",
   "execution_count": 10,
   "metadata": {},
   "outputs": [
    {
     "data": {
      "text/plain": [
       "(30000, 24)"
      ]
     },
     "execution_count": 10,
     "metadata": {},
     "output_type": "execute_result"
    }
   ],
   "source": [
    "CCDP.shape"
   ]
  },
  {
   "cell_type": "markdown",
   "metadata": {},
   "source": [
    "## 2.3 Corrplot"
   ]
  },
  {
   "cell_type": "code",
   "execution_count": 11,
   "metadata": {},
   "outputs": [
    {
     "data": {
      "image/png": "[encoded data removed]",
      "text/plain": [
       "<Figure size 1800x1800 with 2 Axes>"
      ]
     },
     "metadata": {
      "needs_background": "light"
     },
     "output_type": "display_data"
    }
   ],
   "source": [
    "plt.figure(figsize=(25,25))\n",
    "cor = CCDP.corr()\n",
    "sns.heatmap(cor, annot=True, cmap=plt.cm.Reds)\n",
    "plt.show()"
   ]
  },
  {
   "cell_type": "markdown",
   "metadata": {},
   "source": [
    "## 2.4 Variance Inflation Factor (VIF)"
   ]
  },
  {
   "cell_type": "code",
   "execution_count": 12,
   "metadata": {},
   "outputs": [],
   "source": [
    "from statsmodels.stats.outliers_influence import variance_inflation_factor"
   ]
  },
  {
   "cell_type": "code",
   "execution_count": 13,
   "metadata": {},
   "outputs": [],
   "source": [
    "vif = pd.DataFrame"
   ]
  },
  {
   "cell_type": "code",
   "execution_count": 14,
   "metadata": {},
   "outputs": [],
   "source": [
    "vif = [variance_inflation_factor(CCDP.values, i) for i in range(CCDP.shape[1])]"
   ]
  },
  {
   "cell_type": "code",
   "execution_count": 15,
   "metadata": {},
   "outputs": [
    {
     "name": "stdout",
     "output_type": "stream",
     "text": [
      "[4.1458863941452035, 9.157414784325292, 6.636486090642754, 6.327312328005439, 11.136436057691947, 2.584809486949314, 3.025630444404547, 2.8825773777740116, 3.2072039084475183, 3.4125930391789665, 2.440261027370331, 7.703137869750921, 8.60229770585039, 16.912540699356477, 16.934078692925254, 28.47838446068882, 20.612696340740527, 1.4628342675431691, 1.6747014010063552, 1.6062041445575956, 1.544877387399058, 1.7663112247639232, 1.2534704221120114, 1.5667325719543894]\n"
     ]
    }
   ],
   "source": [
    "print(vif)"
   ]
  },
  {
   "cell_type": "code",
   "execution_count": 16,
   "metadata": {},
   "outputs": [],
   "source": [
    "vif_table = pd.concat([pd.Series(CCDP.columns),pd.Series(vif),],axis=1)\n",
    "vif_table.rename(columns={0:\"Columns\",1:\"VIF-Values\"},inplace=True)"
   ]
  },
  {
   "cell_type": "code",
   "execution_count": 17,
   "metadata": {},
   "outputs": [
    {
     "data": {
      "text/html": [
       "<div>\n",
       "<style scoped>\n",
       "    .dataframe tbody tr th:only-of-type {\n",
       "        vertical-align: middle;\n",
       "    }\n",
       "\n",
       "    .dataframe tbody tr th {\n",
       "        vertical-align: top;\n",
       "    }\n",
       "\n",
       "    .dataframe thead th {\n",
       "        text-align: right;\n",
       "    }\n",
       "</style>\n",
       "<table border=\"1\" class=\"dataframe\">\n",
       "  <thead>\n",
       "    <tr style=\"text-align: right;\">\n",
       "      <th></th>\n",
       "      <th>Columns</th>\n",
       "      <th>VIF-Values</th>\n",
       "    </tr>\n",
       "  </thead>\n",
       "  <tbody>\n",
       "    <tr>\n",
       "      <th>15</th>\n",
       "      <td>May_Bill_Amount</td>\n",
       "      <td>28.478384</td>\n",
       "    </tr>\n",
       "    <tr>\n",
       "      <th>16</th>\n",
       "      <td>June_Bill_Amount</td>\n",
       "      <td>20.612696</td>\n",
       "    </tr>\n",
       "    <tr>\n",
       "      <th>14</th>\n",
       "      <td>April_Bill_Amount</td>\n",
       "      <td>16.934079</td>\n",
       "    </tr>\n",
       "    <tr>\n",
       "      <th>13</th>\n",
       "      <td>March_Bill_Amount</td>\n",
       "      <td>16.912541</td>\n",
       "    </tr>\n",
       "    <tr>\n",
       "      <th>4</th>\n",
       "      <td>Age_Years</td>\n",
       "      <td>11.136436</td>\n",
       "    </tr>\n",
       "    <tr>\n",
       "      <th>1</th>\n",
       "      <td>Gender</td>\n",
       "      <td>9.157415</td>\n",
       "    </tr>\n",
       "    <tr>\n",
       "      <th>12</th>\n",
       "      <td>Feb_Bill_Amount</td>\n",
       "      <td>8.602298</td>\n",
       "    </tr>\n",
       "    <tr>\n",
       "      <th>11</th>\n",
       "      <td>Jan_Bill_Amount</td>\n",
       "      <td>7.703138</td>\n",
       "    </tr>\n",
       "    <tr>\n",
       "      <th>2</th>\n",
       "      <td>Academic_Qualification</td>\n",
       "      <td>6.636486</td>\n",
       "    </tr>\n",
       "    <tr>\n",
       "      <th>3</th>\n",
       "      <td>Marital</td>\n",
       "      <td>6.327312</td>\n",
       "    </tr>\n",
       "    <tr>\n",
       "      <th>0</th>\n",
       "      <td>Credit_Amount</td>\n",
       "      <td>4.145886</td>\n",
       "    </tr>\n",
       "    <tr>\n",
       "      <th>9</th>\n",
       "      <td>Repayment_Status_May</td>\n",
       "      <td>3.412593</td>\n",
       "    </tr>\n",
       "    <tr>\n",
       "      <th>8</th>\n",
       "      <td>Repayment_Status_April</td>\n",
       "      <td>3.207204</td>\n",
       "    </tr>\n",
       "    <tr>\n",
       "      <th>6</th>\n",
       "      <td>Repayment_Status_Feb</td>\n",
       "      <td>3.025630</td>\n",
       "    </tr>\n",
       "    <tr>\n",
       "      <th>7</th>\n",
       "      <td>Repayment_Status_March</td>\n",
       "      <td>2.882577</td>\n",
       "    </tr>\n",
       "    <tr>\n",
       "      <th>5</th>\n",
       "      <td>Repayment_Status_Jan</td>\n",
       "      <td>2.584809</td>\n",
       "    </tr>\n",
       "    <tr>\n",
       "      <th>10</th>\n",
       "      <td>Repayment_Status_June</td>\n",
       "      <td>2.440261</td>\n",
       "    </tr>\n",
       "    <tr>\n",
       "      <th>21</th>\n",
       "      <td>Previous_Payment_May</td>\n",
       "      <td>1.766311</td>\n",
       "    </tr>\n",
       "    <tr>\n",
       "      <th>18</th>\n",
       "      <td>Previous_Payment_Feb</td>\n",
       "      <td>1.674701</td>\n",
       "    </tr>\n",
       "    <tr>\n",
       "      <th>19</th>\n",
       "      <td>Previous_Payment_March</td>\n",
       "      <td>1.606204</td>\n",
       "    </tr>\n",
       "    <tr>\n",
       "      <th>23</th>\n",
       "      <td>Default_Payment</td>\n",
       "      <td>1.566733</td>\n",
       "    </tr>\n",
       "    <tr>\n",
       "      <th>20</th>\n",
       "      <td>Previous_Payment_April</td>\n",
       "      <td>1.544877</td>\n",
       "    </tr>\n",
       "    <tr>\n",
       "      <th>17</th>\n",
       "      <td>Previous_Payment_Jan</td>\n",
       "      <td>1.462834</td>\n",
       "    </tr>\n",
       "    <tr>\n",
       "      <th>22</th>\n",
       "      <td>Previous_Payment_June</td>\n",
       "      <td>1.253470</td>\n",
       "    </tr>\n",
       "  </tbody>\n",
       "</table>\n",
       "</div>"
      ],
      "text/plain": [
       "                   Columns  VIF-Values\n",
       "15         May_Bill_Amount   28.478384\n",
       "16        June_Bill_Amount   20.612696\n",
       "14       April_Bill_Amount   16.934079\n",
       "13       March_Bill_Amount   16.912541\n",
       "4                Age_Years   11.136436\n",
       "1                   Gender    9.157415\n",
       "12         Feb_Bill_Amount    8.602298\n",
       "11         Jan_Bill_Amount    7.703138\n",
       "2   Academic_Qualification    6.636486\n",
       "3                  Marital    6.327312\n",
       "0            Credit_Amount    4.145886\n",
       "9     Repayment_Status_May    3.412593\n",
       "8   Repayment_Status_April    3.207204\n",
       "6     Repayment_Status_Feb    3.025630\n",
       "7   Repayment_Status_March    2.882577\n",
       "5     Repayment_Status_Jan    2.584809\n",
       "10   Repayment_Status_June    2.440261\n",
       "21    Previous_Payment_May    1.766311\n",
       "18    Previous_Payment_Feb    1.674701\n",
       "19  Previous_Payment_March    1.606204\n",
       "23         Default_Payment    1.566733\n",
       "20  Previous_Payment_April    1.544877\n",
       "17    Previous_Payment_Jan    1.462834\n",
       "22   Previous_Payment_June    1.253470"
      ]
     },
     "execution_count": 17,
     "metadata": {},
     "output_type": "execute_result"
    }
   ],
   "source": [
    "vif_table.sort_values('VIF-Values',ascending=False)"
   ]
  },
  {
   "cell_type": "markdown",
   "metadata": {},
   "source": [
    "Insight Obtained:\n",
    "\n",
    "Columns (4,13,14,15,16) have Higher Multicoliinearity (i.e >10)\n",
    "\n",
    "Columns (1,12,2,3) have Moderate Multicollinearity (i.e between(5-10)) \n",
    "\n",
    "Rest of The columns have Low Multicollinearity (i.e <5)"
   ]
  },
  {
   "cell_type": "markdown",
   "metadata": {},
   "source": [
    "# Step 3 Sampling"
   ]
  },
  {
   "cell_type": "markdown",
   "metadata": {},
   "source": [
    "## 3.1 Splitting into X and Y"
   ]
  },
  {
   "cell_type": "code",
   "execution_count": 58,
   "metadata": {},
   "outputs": [],
   "source": [
    "CCDP_x=CCDP.loc[:,CCDP.columns!='Default_Payment']\n",
    "CCDP_y=CCDP.loc[:,CCDP.columns=='Default_Payment']"
   ]
  },
  {
   "cell_type": "markdown",
   "metadata": {},
   "source": [
    "## 3.2 Splitting into X-Train and Y-Train"
   ]
  },
  {
   "cell_type": "code",
   "execution_count": 59,
   "metadata": {},
   "outputs": [],
   "source": [
    "from sklearn.model_selection import train_test_split\n",
    "CCDP_x_train,CCDP_x_test,CCDP_y_train,CCDP_y_test=train_test_split(CCDP_x,CCDP_y,test_size=.2,random_state=619)"
   ]
  },
  {
   "cell_type": "markdown",
   "metadata": {},
   "source": [
    "## 3.3 Application of SMOTE to Resolve Class Imbalance"
   ]
  },
  {
   "cell_type": "code",
   "execution_count": 60,
   "metadata": {},
   "outputs": [],
   "source": [
    "import imblearn\n",
    "from imblearn.over_sampling import SMOTE\n",
    "import numpy as np\n",
    "sm = SMOTE()"
   ]
  },
  {
   "cell_type": "code",
   "execution_count": null,
   "metadata": {},
   "outputs": [],
   "source": []
  },
  {
   "cell_type": "code",
   "execution_count": 61,
   "metadata": {
    "scrolled": true
   },
   "outputs": [],
   "source": [
    "CCDP_xtrain,CCDP_ytrain = sm.fit_sample(CCDP_x_train,CCDP_y_train)"
   ]
  },
  {
   "cell_type": "code",
   "execution_count": 62,
   "metadata": {},
   "outputs": [
    {
     "data": {
      "text/html": [
       "<div>\n",
       "<style scoped>\n",
       "    .dataframe tbody tr th:only-of-type {\n",
       "        vertical-align: middle;\n",
       "    }\n",
       "\n",
       "    .dataframe tbody tr th {\n",
       "        vertical-align: top;\n",
       "    }\n",
       "\n",
       "    .dataframe thead th {\n",
       "        text-align: right;\n",
       "    }\n",
       "</style>\n",
       "<table border=\"1\" class=\"dataframe\">\n",
       "  <thead>\n",
       "    <tr style=\"text-align: right;\">\n",
       "      <th></th>\n",
       "      <th>Default_Payment</th>\n",
       "    </tr>\n",
       "  </thead>\n",
       "  <tbody>\n",
       "    <tr>\n",
       "      <th>0</th>\n",
       "      <td>0</td>\n",
       "    </tr>\n",
       "    <tr>\n",
       "      <th>1</th>\n",
       "      <td>0</td>\n",
       "    </tr>\n",
       "    <tr>\n",
       "      <th>2</th>\n",
       "      <td>0</td>\n",
       "    </tr>\n",
       "    <tr>\n",
       "      <th>3</th>\n",
       "      <td>0</td>\n",
       "    </tr>\n",
       "    <tr>\n",
       "      <th>4</th>\n",
       "      <td>0</td>\n",
       "    </tr>\n",
       "    <tr>\n",
       "      <th>...</th>\n",
       "      <td>...</td>\n",
       "    </tr>\n",
       "    <tr>\n",
       "      <th>37277</th>\n",
       "      <td>1</td>\n",
       "    </tr>\n",
       "    <tr>\n",
       "      <th>37278</th>\n",
       "      <td>1</td>\n",
       "    </tr>\n",
       "    <tr>\n",
       "      <th>37279</th>\n",
       "      <td>1</td>\n",
       "    </tr>\n",
       "    <tr>\n",
       "      <th>37280</th>\n",
       "      <td>1</td>\n",
       "    </tr>\n",
       "    <tr>\n",
       "      <th>37281</th>\n",
       "      <td>1</td>\n",
       "    </tr>\n",
       "  </tbody>\n",
       "</table>\n",
       "<p>37282 rows × 1 columns</p>\n",
       "</div>"
      ],
      "text/plain": [
       "       Default_Payment\n",
       "0                    0\n",
       "1                    0\n",
       "2                    0\n",
       "3                    0\n",
       "4                    0\n",
       "...                ...\n",
       "37277                1\n",
       "37278                1\n",
       "37279                1\n",
       "37280                1\n",
       "37281                1\n",
       "\n",
       "[37282 rows x 1 columns]"
      ]
     },
     "execution_count": 62,
     "metadata": {},
     "output_type": "execute_result"
    }
   ],
   "source": [
    "CCDP_ytrain"
   ]
  },
  {
   "cell_type": "code",
   "execution_count": 88,
   "metadata": {},
   "outputs": [
    {
     "data": {
      "text/plain": [
       "pandas.core.frame.DataFrame"
      ]
     },
     "execution_count": 88,
     "metadata": {},
     "output_type": "execute_result"
    }
   ],
   "source": [
    "type(CCDP_ytrain)"
   ]
  },
  {
   "cell_type": "code",
   "execution_count": 63,
   "metadata": {},
   "outputs": [
    {
     "name": "stderr",
     "output_type": "stream",
     "text": [
      "C:\\ProgramData\\Anaconda3\\lib\\site-packages\\seaborn\\_decorators.py:36: FutureWarning: Pass the following variable as a keyword arg: x. From version 0.12, the only valid positional argument will be `data`, and passing other arguments without an explicit keyword will result in an error or misinterpretation.\n",
      "  warnings.warn(\n"
     ]
    },
    {
     "data": {
      "text/plain": [
       "<AxesSubplot:xlabel='Default_Payment', ylabel='count'>"
      ]
     },
     "execution_count": 63,
     "metadata": {},
     "output_type": "execute_result"
    },
    {
     "data": {
      "image/png": "[encoded data removed]",
      "text/plain": [
       "<Figure size 432x288 with 1 Axes>"
      ]
     },
     "metadata": {
      "needs_background": "light"
     },
     "output_type": "display_data"
    }
   ],
   "source": [
    "sns.countplot(CCDP_ytrain['Default_Payment'])"
   ]
  },
  {
   "cell_type": "code",
   "execution_count": 23,
   "metadata": {},
   "outputs": [
    {
     "data": {
      "text/plain": [
       "1    18641\n",
       "0    18641\n",
       "Name: Default_Payment, dtype: int64"
      ]
     },
     "execution_count": 23,
     "metadata": {},
     "output_type": "execute_result"
    }
   ],
   "source": [
    "CCDP_ytrain['Default_Payment'].value_counts()"
   ]
  },
  {
   "cell_type": "markdown",
   "metadata": {},
   "source": [
    "# Step 4 Model Making"
   ]
  },
  {
   "cell_type": "markdown",
   "metadata": {},
   "source": [
    "## 4.1 Making an Logistic Regression Model"
   ]
  },
  {
   "cell_type": "code",
   "execution_count": 24,
   "metadata": {},
   "outputs": [
    {
     "name": "stderr",
     "output_type": "stream",
     "text": [
      "C:\\ProgramData\\Anaconda3\\lib\\site-packages\\sklearn\\utils\\validation.py:72: DataConversionWarning: A column-vector y was passed when a 1d array was expected. Please change the shape of y to (n_samples, ), for example using ravel().\n",
      "  return f(**kwargs)\n",
      "C:\\ProgramData\\Anaconda3\\lib\\site-packages\\sklearn\\linear_model\\_logistic.py:762: ConvergenceWarning: lbfgs failed to converge (status=1):\n",
      "STOP: TOTAL NO. of ITERATIONS REACHED LIMIT.\n",
      "\n",
      "Increase the number of iterations (max_iter) or scale the data as shown in:\n",
      "    https://scikit-learn.org/stable/modules/preprocessing.html\n",
      "Please also refer to the documentation for alternative solver options:\n",
      "    https://scikit-learn.org/stable/modules/linear_model.html#logistic-regression\n",
      "  n_iter_i = _check_optimize_result(\n"
     ]
    },
    {
     "data": {
      "text/plain": [
       "array([[3516,  726],\n",
       "       [1207,  551]], dtype=int64)"
      ]
     },
     "execution_count": 24,
     "metadata": {},
     "output_type": "execute_result"
    }
   ],
   "source": [
    "from sklearn.linear_model import LogisticRegression\n",
    "from sklearn.metrics import confusion_matrix\n",
    "\n",
    "logisticmodel=LogisticRegression()\n",
    "logisticmodel.fit(CCDP_xtrain,CCDP_ytrain)\n",
    "prediction_logistic=logisticmodel.predict(CCDP_x_test)\n",
    "tab1=confusion_matrix(prediction_logistic,CCDP_y_test)\n",
    "tab1"
   ]
  },
  {
   "cell_type": "code",
   "execution_count": 25,
   "metadata": {},
   "outputs": [
    {
     "data": {
      "text/plain": [
       "67.78333333333333"
      ]
     },
     "execution_count": 25,
     "metadata": {},
     "output_type": "execute_result"
    }
   ],
   "source": [
    "acc1=tab1.diagonal().sum()* 100 / tab1.sum()\n",
    "acc1"
   ]
  },
  {
   "cell_type": "markdown",
   "metadata": {},
   "source": [
    "Insight Obtained : We can see that ACCURACY here is 67.783"
   ]
  },
  {
   "cell_type": "markdown",
   "metadata": {},
   "source": [
    "## 4.2 Making an Decision Tree Model"
   ]
  },
  {
   "cell_type": "code",
   "execution_count": 26,
   "metadata": {},
   "outputs": [
    {
     "data": {
      "text/plain": [
       "array([[3595,  673],\n",
       "       [1128,  604]], dtype=int64)"
      ]
     },
     "execution_count": 26,
     "metadata": {},
     "output_type": "execute_result"
    }
   ],
   "source": [
    "from sklearn.tree import DecisionTreeClassifier\n",
    "dtree = DecisionTreeClassifier()\n",
    "dtree.fit(CCDP_xtrain,CCDP_ytrain)\n",
    "prediction_dt = dtree.predict(CCDP_x_test)\n",
    "tab2 = confusion_matrix(prediction_dt,CCDP_y_test)\n",
    "tab2"
   ]
  },
  {
   "cell_type": "code",
   "execution_count": 27,
   "metadata": {},
   "outputs": [
    {
     "data": {
      "text/plain": [
       "69.98333333333333"
      ]
     },
     "execution_count": 27,
     "metadata": {},
     "output_type": "execute_result"
    }
   ],
   "source": [
    "acc2 = tab2.diagonal().sum()  *100/tab2.sum()\n",
    "acc2"
   ]
  },
  {
   "cell_type": "markdown",
   "metadata": {},
   "source": [
    "Insight Obtained : We can see that ACCURACY here us 69.983"
   ]
  },
  {
   "cell_type": "markdown",
   "metadata": {},
   "source": [
    "##  4.3 Making an Random Forest Model"
   ]
  },
  {
   "cell_type": "code",
   "execution_count": 28,
   "metadata": {},
   "outputs": [
    {
     "name": "stderr",
     "output_type": "stream",
     "text": [
      "<ipython-input-28-f88755cb7390>:3: DataConversionWarning: A column-vector y was passed when a 1d array was expected. Please change the shape of y to (n_samples,), for example using ravel().\n",
      "  rfc.fit(CCDP_xtrain,CCDP_ytrain)\n"
     ]
    },
    {
     "data": {
      "text/plain": [
       "array([[4142,  665],\n",
       "       [ 581,  612]], dtype=int64)"
      ]
     },
     "execution_count": 28,
     "metadata": {},
     "output_type": "execute_result"
    }
   ],
   "source": [
    "from sklearn.ensemble import RandomForestClassifier\n",
    "rfc=RandomForestClassifier(n_estimators=50)\n",
    "rfc.fit(CCDP_xtrain,CCDP_ytrain)\n",
    "prediction_rfc=rfc.predict(CCDP_x_test)\n",
    "tab3=confusion_matrix(prediction_rfc,CCDP_y_test)\n",
    "tab3"
   ]
  },
  {
   "cell_type": "code",
   "execution_count": 29,
   "metadata": {},
   "outputs": [
    {
     "data": {
      "text/plain": [
       "79.23333333333333"
      ]
     },
     "execution_count": 29,
     "metadata": {},
     "output_type": "execute_result"
    }
   ],
   "source": [
    "acc3=tab3.diagonal().sum()  *100/tab3.sum()\n",
    "acc3"
   ]
  },
  {
   "cell_type": "markdown",
   "metadata": {},
   "source": [
    "Insight Obtained: Here we can see that the ACCURACY is 79.233"
   ]
  },
  {
   "cell_type": "markdown",
   "metadata": {},
   "source": [
    "##  4.4 Applying Ada Boost on Decision Tree Classifier"
   ]
  },
  {
   "cell_type": "code",
   "execution_count": 30,
   "metadata": {},
   "outputs": [
    {
     "name": "stderr",
     "output_type": "stream",
     "text": [
      "C:\\ProgramData\\Anaconda3\\lib\\site-packages\\sklearn\\utils\\validation.py:72: DataConversionWarning: A column-vector y was passed when a 1d array was expected. Please change the shape of y to (n_samples, ), for example using ravel().\n",
      "  return f(**kwargs)\n"
     ]
    },
    {
     "data": {
      "text/plain": [
       "array([[3896,  669],\n",
       "       [ 827,  608]], dtype=int64)"
      ]
     },
     "execution_count": 30,
     "metadata": {},
     "output_type": "execute_result"
    }
   ],
   "source": [
    "from sklearn.ensemble import AdaBoostClassifier\n",
    "abc=AdaBoostClassifier(  DecisionTreeClassifier(),n_estimators=15)\n",
    "abc.fit(CCDP_xtrain,CCDP_ytrain)\n",
    "prediction_abc=abc.predict(CCDP_x_test)\n",
    "tab4=confusion_matrix(prediction_abc,CCDP_y_test)\n",
    "tab4"
   ]
  },
  {
   "cell_type": "code",
   "execution_count": 31,
   "metadata": {},
   "outputs": [
    {
     "data": {
      "text/plain": [
       "75.06666666666666"
      ]
     },
     "execution_count": 31,
     "metadata": {},
     "output_type": "execute_result"
    }
   ],
   "source": [
    "acc4=tab4.diagonal().sum()  *100/tab4.sum()\n",
    "acc4"
   ]
  },
  {
   "cell_type": "markdown",
   "metadata": {},
   "source": [
    "Insight Obtained: Here we can see that ACCURACY is 75.066"
   ]
  },
  {
   "cell_type": "markdown",
   "metadata": {},
   "source": [
    "##  4.5 Making an K-Nearest Neighbour Model"
   ]
  },
  {
   "cell_type": "code",
   "execution_count": 32,
   "metadata": {},
   "outputs": [
    {
     "name": "stderr",
     "output_type": "stream",
     "text": [
      "<ipython-input-32-a21b596b2422>:3: DataConversionWarning: A column-vector y was passed when a 1d array was expected. Please change the shape of y to (n_samples, ), for example using ravel().\n",
      "  knn.fit(CCDP_xtrain,CCDP_ytrain)\n"
     ]
    },
    {
     "data": {
      "text/plain": [
       "array([[2997,  589],\n",
       "       [1726,  688]], dtype=int64)"
      ]
     },
     "execution_count": 32,
     "metadata": {},
     "output_type": "execute_result"
    }
   ],
   "source": [
    "from sklearn.neighbors import KNeighborsClassifier\n",
    "knn=KNeighborsClassifier(n_neighbors=5)\n",
    "knn.fit(CCDP_xtrain,CCDP_ytrain)\n",
    "prediction_knn=knn.predict(CCDP_x_test)\n",
    "tab5=confusion_matrix(prediction_knn,CCDP_y_test)\n",
    "tab5"
   ]
  },
  {
   "cell_type": "code",
   "execution_count": 33,
   "metadata": {},
   "outputs": [
    {
     "data": {
      "text/plain": [
       "61.416666666666664"
      ]
     },
     "execution_count": 33,
     "metadata": {},
     "output_type": "execute_result"
    }
   ],
   "source": [
    "acc5=tab5.diagonal().sum()  *100/tab5.sum()\n",
    "acc5"
   ]
  },
  {
   "cell_type": "markdown",
   "metadata": {},
   "source": [
    "Insight Obtained : Here we can see that ACCURACY is 61.416"
   ]
  },
  {
   "cell_type": "markdown",
   "metadata": {},
   "source": [
    "## 4.6 Applying Gradient Boosting "
   ]
  },
  {
   "cell_type": "code",
   "execution_count": 34,
   "metadata": {},
   "outputs": [
    {
     "name": "stderr",
     "output_type": "stream",
     "text": [
      "C:\\ProgramData\\Anaconda3\\lib\\site-packages\\sklearn\\utils\\validation.py:72: DataConversionWarning: A column-vector y was passed when a 1d array was expected. Please change the shape of y to (n_samples, ), for example using ravel().\n",
      "  return f(**kwargs)\n"
     ]
    }
   ],
   "source": [
    "from sklearn.datasets import make_classification\n",
    "from sklearn.ensemble import GradientBoostingClassifier\n",
    "clf = GradientBoostingClassifier(random_state=126)\n",
    "clf.fit(CCDP_xtrain, CCDP_ytrain)\n",
    "prediction_clf=clf.predict(CCDP_x_test)"
   ]
  },
  {
   "cell_type": "code",
   "execution_count": 35,
   "metadata": {},
   "outputs": [
    {
     "data": {
      "text/plain": [
       "array([[3899,  570],\n",
       "       [ 824,  707]], dtype=int64)"
      ]
     },
     "execution_count": 35,
     "metadata": {},
     "output_type": "execute_result"
    }
   ],
   "source": [
    "tab6 = confusion_matrix(prediction_clf,CCDP_y_test)\n",
    "tab6"
   ]
  },
  {
   "cell_type": "code",
   "execution_count": 36,
   "metadata": {},
   "outputs": [
    {
     "data": {
      "text/plain": [
       "76.76666666666667"
      ]
     },
     "execution_count": 36,
     "metadata": {},
     "output_type": "execute_result"
    }
   ],
   "source": [
    "acc6 = tab6.diagonal().sum()  *100/tab6.sum()\n",
    "acc6"
   ]
  },
  {
   "cell_type": "markdown",
   "metadata": {},
   "source": [
    "Insight Obtained: Here we can see that ACCURACY is 76.767"
   ]
  },
  {
   "cell_type": "markdown",
   "metadata": {},
   "source": [
    "## 4.7 Applying XGBoost"
   ]
  },
  {
   "cell_type": "code",
   "execution_count": 37,
   "metadata": {},
   "outputs": [
    {
     "name": "stderr",
     "output_type": "stream",
     "text": [
      "C:\\ProgramData\\Anaconda3\\lib\\site-packages\\xgboost\\sklearn.py:892: UserWarning: The use of label encoder in XGBClassifier is deprecated and will be removed in a future release. To remove this warning, do the following: 1) Pass option use_label_encoder=False when constructing XGBClassifier object; and 2) Encode your labels (y) as integers starting with 0, i.e. 0, 1, 2, ..., [num_class - 1].\n",
      "  warnings.warn(label_encoder_deprecation_msg, UserWarning)\n",
      "C:\\ProgramData\\Anaconda3\\lib\\site-packages\\sklearn\\utils\\validation.py:72: DataConversionWarning: A column-vector y was passed when a 1d array was expected. Please change the shape of y to (n_samples, ), for example using ravel().\n",
      "  return f(**kwargs)\n"
     ]
    },
    {
     "name": "stdout",
     "output_type": "stream",
     "text": [
      "[17:40:38] WARNING: C:/Users/Administrator/workspace/xgboost-win64_release_1.3.0/src/learner.cc:1061: Starting in XGBoost 1.3.0, the default evaluation metric used with the objective 'binary:logistic' was changed from 'error' to 'logloss'. Explicitly set eval_metric if you'd like to restore the old behavior.\n"
     ]
    }
   ],
   "source": [
    "from xgboost import XGBClassifier\n",
    "model = XGBClassifier()\n",
    "model.fit(CCDP_xtrain,CCDP_ytrain)\n",
    "prediction_XGB = model.predict(CCDP_x_test)"
   ]
  },
  {
   "cell_type": "code",
   "execution_count": 38,
   "metadata": {},
   "outputs": [
    {
     "data": {
      "text/plain": [
       "array([[4102,  682],\n",
       "       [ 621,  595]], dtype=int64)"
      ]
     },
     "execution_count": 38,
     "metadata": {},
     "output_type": "execute_result"
    }
   ],
   "source": [
    "tab7 = confusion_matrix(prediction_XGB,CCDP_y_test)\n",
    "tab7"
   ]
  },
  {
   "cell_type": "code",
   "execution_count": 39,
   "metadata": {},
   "outputs": [
    {
     "data": {
      "text/plain": [
       "78.28333333333333"
      ]
     },
     "execution_count": 39,
     "metadata": {},
     "output_type": "execute_result"
    }
   ],
   "source": [
    "acc7 = tab7.diagonal().sum()  *100/tab7.sum()\n",
    "acc7"
   ]
  },
  {
   "cell_type": "markdown",
   "metadata": {},
   "source": [
    "Insight Obtained: Here we can see that ACCURACY is 78.283"
   ]
  },
  {
   "cell_type": "code",
   "execution_count": null,
   "metadata": {},
   "outputs": [],
   "source": []
  },
  {
   "cell_type": "markdown",
   "metadata": {},
   "source": [
    "## 4.8 Making an Support Vector Machine Model"
   ]
  },
  {
   "cell_type": "code",
   "execution_count": 40,
   "metadata": {},
   "outputs": [
    {
     "name": "stderr",
     "output_type": "stream",
     "text": [
      "C:\\ProgramData\\Anaconda3\\lib\\site-packages\\sklearn\\utils\\validation.py:72: DataConversionWarning: A column-vector y was passed when a 1d array was expected. Please change the shape of y to (n_samples, ), for example using ravel().\n",
      "  return f(**kwargs)\n"
     ]
    }
   ],
   "source": [
    "from sklearn.svm import SVC\n",
    "svc_model=SVC()\n",
    "svc_model.fit(CCDP_xtrain,CCDP_ytrain)\n",
    "prediction_SVM=svc_model.predict(CCDP_x_test)"
   ]
  },
  {
   "cell_type": "code",
   "execution_count": 41,
   "metadata": {},
   "outputs": [
    {
     "data": {
      "text/plain": [
       "array([[2384,  344],\n",
       "       [2339,  933]], dtype=int64)"
      ]
     },
     "execution_count": 41,
     "metadata": {},
     "output_type": "execute_result"
    }
   ],
   "source": [
    "tab9 = confusion_matrix(prediction_SVM,CCDP_y_test)\n",
    "tab9"
   ]
  },
  {
   "cell_type": "code",
   "execution_count": 42,
   "metadata": {},
   "outputs": [
    {
     "data": {
      "text/plain": [
       "55.28333333333333"
      ]
     },
     "execution_count": 42,
     "metadata": {},
     "output_type": "execute_result"
    }
   ],
   "source": [
    "acc9 = tab9.diagonal().sum()  *100/tab9.sum()\n",
    "acc9"
   ]
  },
  {
   "cell_type": "markdown",
   "metadata": {},
   "source": [
    "Insight Obtained : Here we can see that ACCURACY is 55.283"
   ]
  },
  {
   "cell_type": "markdown",
   "metadata": {},
   "source": [
    "# Step 5 - Evaluate All Models"
   ]
  },
  {
   "cell_type": "markdown",
   "metadata": {},
   "source": [
    "## 5.1 Accuracy Scores of all the Models"
   ]
  },
  {
   "cell_type": "code",
   "execution_count": 43,
   "metadata": {},
   "outputs": [],
   "source": [
    "from sklearn.metrics import accuracy_score\n",
    "Acc1_Logistic       = accuracy_score(CCDP_y_test,prediction_logistic)\n",
    "Acc2_Decision_Tree  = accuracy_score(CCDP_y_test,prediction_dt)\n",
    "Acc3_Random_Forest  = accuracy_score(CCDP_y_test,prediction_rfc)\n",
    "Acc4_Ada_Boost      = accuracy_score(CCDP_y_test,prediction_abc)\n",
    "Acc5_KNN            = accuracy_score(CCDP_y_test,prediction_knn)\n",
    "Acc6_Gradient_Boost = accuracy_score(CCDP_y_test,prediction_clf)\n",
    "Acc7_XGBoost        = accuracy_score(CCDP_y_test,prediction_XGB)\n",
    "Acc8_SVM            = accuracy_score(CCDP_y_test,prediction_SVM)\n",
    "Accuracy_all        = [Acc1_Logistic,Acc2_Decision_Tree,Acc3_Random_Forest,Acc4_Ada_Boost,Acc5_KNN,Acc6_Gradient_Boost,Acc7_XGBoost,Acc8_SVM]"
   ]
  },
  {
   "cell_type": "markdown",
   "metadata": {},
   "source": [
    "## 5.2 Precision Scores of all the models"
   ]
  },
  {
   "cell_type": "code",
   "execution_count": 44,
   "metadata": {},
   "outputs": [],
   "source": [
    "from sklearn.metrics import precision_score\n",
    "Prec1_Logistic       = precision_score(CCDP_y_test,prediction_logistic)\n",
    "Prec2_Decision_Tree  = precision_score(CCDP_y_test,prediction_dt)\n",
    "Prec3_Random_Forest  = precision_score(CCDP_y_test,prediction_rfc)\n",
    "Prec4_Ada_Boost      = precision_score(CCDP_y_test,prediction_abc)\n",
    "Prec5_KNN            = precision_score(CCDP_y_test,prediction_knn)\n",
    "Prec6_Gradient_Boost = precision_score(CCDP_y_test,prediction_clf)\n",
    "Prec7_XGBoost        = precision_score(CCDP_y_test,prediction_XGB)\n",
    "Prec8_SVM            = precision_score(CCDP_y_test,prediction_SVM)\n",
    "Precision_all        = [Prec1_Logistic,Prec2_Decision_Tree,Prec3_Random_Forest,Prec4_Ada_Boost,Prec5_KNN,Prec6_Gradient_Boost,Prec7_XGBoost,Prec8_SVM]"
   ]
  },
  {
   "cell_type": "markdown",
   "metadata": {},
   "source": [
    "## 5.3 Recall/Sensitivity Scores of all the models"
   ]
  },
  {
   "cell_type": "code",
   "execution_count": 45,
   "metadata": {},
   "outputs": [],
   "source": [
    "from sklearn.metrics import recall_score\n",
    "Sens1_Logistic       = recall_score(CCDP_y_test,prediction_logistic)\n",
    "Sens2_Decision_Tree  = recall_score(CCDP_y_test,prediction_dt)\n",
    "Sens3_Random_Forest  = recall_score(CCDP_y_test,prediction_rfc)\n",
    "Sens4_Ada_Boost      = recall_score(CCDP_y_test,prediction_abc)\n",
    "Sens5_KNN            = recall_score(CCDP_y_test,prediction_knn)\n",
    "Sens6_Gradient_Boost = recall_score(CCDP_y_test,prediction_clf)\n",
    "Sens7_XGBoost        = recall_score(CCDP_y_test,prediction_XGB)\n",
    "Sens8_SVM            = recall_score(CCDP_y_test,prediction_SVM)\n",
    "Recall_all           =[Sens1_Logistic,Sens2_Decision_Tree,Sens3_Random_Forest,Sens4_Ada_Boost,Sens5_KNN,Sens6_Gradient_Boost,Sens7_XGBoost,Sens8_SVM]"
   ]
  },
  {
   "cell_type": "markdown",
   "metadata": {},
   "source": [
    "## 5.4 Specificity on class '0'"
   ]
  },
  {
   "cell_type": "code",
   "execution_count": 46,
   "metadata": {},
   "outputs": [],
   "source": [
    "from sklearn.metrics import recall_score\n",
    "Spec_Logistic       = recall_score(CCDP_y_test,prediction_logistic,pos_label=0)\n",
    "Spec_Decision_Tree  = recall_score(CCDP_y_test,prediction_dt,pos_label=0)\n",
    "Spec_Random_Forest  = recall_score(CCDP_y_test,prediction_rfc,pos_label=0)\n",
    "Spec_Ada_Boost      = recall_score(CCDP_y_test,prediction_abc,pos_label=0)\n",
    "Spec_KNN            = recall_score(CCDP_y_test,prediction_knn,pos_label=0)\n",
    "Spec_Gradient_Boost = recall_score(CCDP_y_test,prediction_clf,pos_label=0)\n",
    "Spec_XGBoost        = recall_score(CCDP_y_test,prediction_XGB,pos_label=0)\n",
    "Spec_SVM            = recall_score(CCDP_y_test,prediction_SVM,pos_label=0)\n",
    "Spec_all            = [Spec_Logistic,Spec_Decision_Tree,Spec_Random_Forest,Spec_Ada_Boost,Spec_KNN,Spec_Gradient_Boost,Spec_XGBoost,Spec_SVM]"
   ]
  },
  {
   "cell_type": "markdown",
   "metadata": {},
   "source": [
    "## 5.5 AUROC"
   ]
  },
  {
   "cell_type": "code",
   "execution_count": 47,
   "metadata": {},
   "outputs": [],
   "source": [
    "\n",
    "auroc_Logistic       = sklearn.metrics.roc_auc_score(CCDP_y_test,prediction_logistic)\n",
    "auroc_Decision_Tree  = sklearn.metrics.roc_auc_score(CCDP_y_test,prediction_dt)\n",
    "auroc_Random_Forest  = sklearn.metrics.roc_auc_score(CCDP_y_test,prediction_rfc)\n",
    "auroc_Ada_Boost      = sklearn.metrics.roc_auc_score(CCDP_y_test,prediction_abc)\n",
    "auroc_KNN            = sklearn.metrics.roc_auc_score(CCDP_y_test,prediction_knn)\n",
    "auroc_Gradient_Boost = sklearn.metrics.roc_auc_score(CCDP_y_test,prediction_clf)\n",
    "auroc_XGBoost        = sklearn.metrics.roc_auc_score(CCDP_y_test,prediction_XGB)\n",
    "auroc_SVM            = sklearn.metrics.roc_auc_score(CCDP_y_test,prediction_SVM)\n",
    "auroc_all            = [auroc_Logistic,auroc_Decision_Tree,auroc_Random_Forest,auroc_Ada_Boost,auroc_KNN,auroc_Gradient_Boost,auroc_XGBoost,auroc_SVM]"
   ]
  },
  {
   "cell_type": "markdown",
   "metadata": {},
   "source": [
    "## 5.6 F-1 Score"
   ]
  },
  {
   "cell_type": "code",
   "execution_count": 64,
   "metadata": {},
   "outputs": [],
   "source": [
    "f1_Logistic       = sklearn.metrics.f1_score(CCDP_y_test,prediction_logistic)\n",
    "f1_Decision_Tree  = sklearn.metrics.f1_score(CCDP_y_test,prediction_dt)\n",
    "f1_Random_Forest  = sklearn.metrics.f1_score(CCDP_y_test,prediction_rfc)\n",
    "f1_Ada_Boost      = sklearn.metrics.f1_score(CCDP_y_test,prediction_abc)\n",
    "f1_KNN            = sklearn.metrics.f1_score(CCDP_y_test,prediction_knn)\n",
    "f1_Gradient_Boost = sklearn.metrics.f1_score(CCDP_y_test,prediction_clf)\n",
    "f1_XGBoost        = sklearn.metrics.f1_score(CCDP_y_test,prediction_XGB)\n",
    "f1_SVM            = sklearn.metrics.f1_score(CCDP_y_test,prediction_SVM)\n",
    "f1_all            = [f1_Logistic,f1_Decision_Tree,f1_Random_Forest,f1_Ada_Boost,f1_KNN,f1_Gradient_Boost,f1_XGBoost,f1_SVM]"
   ]
  },
  {
   "cell_type": "markdown",
   "metadata": {},
   "source": [
    "## 5.7 Comparision"
   ]
  },
  {
   "cell_type": "code",
   "execution_count": 65,
   "metadata": {},
   "outputs": [],
   "source": [
    "Names = ['Logistic Regression','Decision Tree','Random Forest','Ada Boost','K-Nearest Neighbours','Gradient-Boosting','XG-Boost','SVM']\n",
    "df = pd.DataFrame(list(zip(Names,Accuracy_all,Precision_all,Recall_all,Spec_all,auroc_all,f1_all)),columns=['Model_Name', 'Accuracy', 'Precision',\"Recall/Sensitivity\",\"Specificity\",\"AUROC\",\"F-1 Score\"])"
   ]
  },
  {
   "cell_type": "code",
   "execution_count": 66,
   "metadata": {},
   "outputs": [
    {
     "data": {
      "text/html": [
       "<div>\n",
       "<style scoped>\n",
       "    .dataframe tbody tr th:only-of-type {\n",
       "        vertical-align: middle;\n",
       "    }\n",
       "\n",
       "    .dataframe tbody tr th {\n",
       "        vertical-align: top;\n",
       "    }\n",
       "\n",
       "    .dataframe thead th {\n",
       "        text-align: right;\n",
       "    }\n",
       "</style>\n",
       "<table border=\"1\" class=\"dataframe\">\n",
       "  <thead>\n",
       "    <tr style=\"text-align: right;\">\n",
       "      <th></th>\n",
       "      <th>Model_Name</th>\n",
       "      <th>Accuracy</th>\n",
       "      <th>Precision</th>\n",
       "      <th>Recall/Sensitivity</th>\n",
       "      <th>Specificity</th>\n",
       "      <th>AUROC</th>\n",
       "      <th>F-1 Score</th>\n",
       "    </tr>\n",
       "  </thead>\n",
       "  <tbody>\n",
       "    <tr>\n",
       "      <th>2</th>\n",
       "      <td>Random Forest</td>\n",
       "      <td>0.792333</td>\n",
       "      <td>0.512992</td>\n",
       "      <td>0.479248</td>\n",
       "      <td>0.876985</td>\n",
       "      <td>0.678117</td>\n",
       "      <td>0.495547</td>\n",
       "    </tr>\n",
       "    <tr>\n",
       "      <th>6</th>\n",
       "      <td>XG-Boost</td>\n",
       "      <td>0.782833</td>\n",
       "      <td>0.489309</td>\n",
       "      <td>0.465936</td>\n",
       "      <td>0.868516</td>\n",
       "      <td>0.667226</td>\n",
       "      <td>0.477337</td>\n",
       "    </tr>\n",
       "    <tr>\n",
       "      <th>5</th>\n",
       "      <td>Gradient-Boosting</td>\n",
       "      <td>0.767667</td>\n",
       "      <td>0.461790</td>\n",
       "      <td>0.553641</td>\n",
       "      <td>0.825535</td>\n",
       "      <td>0.689588</td>\n",
       "      <td>0.503561</td>\n",
       "    </tr>\n",
       "    <tr>\n",
       "      <th>3</th>\n",
       "      <td>Ada Boost</td>\n",
       "      <td>0.750667</td>\n",
       "      <td>0.423693</td>\n",
       "      <td>0.476116</td>\n",
       "      <td>0.824899</td>\n",
       "      <td>0.650508</td>\n",
       "      <td>0.448378</td>\n",
       "    </tr>\n",
       "    <tr>\n",
       "      <th>1</th>\n",
       "      <td>Decision Tree</td>\n",
       "      <td>0.699833</td>\n",
       "      <td>0.348730</td>\n",
       "      <td>0.472984</td>\n",
       "      <td>0.761169</td>\n",
       "      <td>0.617076</td>\n",
       "      <td>0.401462</td>\n",
       "    </tr>\n",
       "    <tr>\n",
       "      <th>0</th>\n",
       "      <td>Logistic Regression</td>\n",
       "      <td>0.677833</td>\n",
       "      <td>0.313424</td>\n",
       "      <td>0.431480</td>\n",
       "      <td>0.744442</td>\n",
       "      <td>0.587961</td>\n",
       "      <td>0.363097</td>\n",
       "    </tr>\n",
       "    <tr>\n",
       "      <th>4</th>\n",
       "      <td>K-Nearest Neighbours</td>\n",
       "      <td>0.614167</td>\n",
       "      <td>0.285004</td>\n",
       "      <td>0.538763</td>\n",
       "      <td>0.634554</td>\n",
       "      <td>0.586659</td>\n",
       "      <td>0.372799</td>\n",
       "    </tr>\n",
       "    <tr>\n",
       "      <th>7</th>\n",
       "      <td>SVM</td>\n",
       "      <td>0.552833</td>\n",
       "      <td>0.285147</td>\n",
       "      <td>0.730619</td>\n",
       "      <td>0.504764</td>\n",
       "      <td>0.617691</td>\n",
       "      <td>0.410200</td>\n",
       "    </tr>\n",
       "  </tbody>\n",
       "</table>\n",
       "</div>"
      ],
      "text/plain": [
       "             Model_Name  Accuracy  Precision  Recall/Sensitivity  Specificity  \\\n",
       "2         Random Forest  0.792333   0.512992            0.479248     0.876985   \n",
       "6              XG-Boost  0.782833   0.489309            0.465936     0.868516   \n",
       "5     Gradient-Boosting  0.767667   0.461790            0.553641     0.825535   \n",
       "3             Ada Boost  0.750667   0.423693            0.476116     0.824899   \n",
       "1         Decision Tree  0.699833   0.348730            0.472984     0.761169   \n",
       "0   Logistic Regression  0.677833   0.313424            0.431480     0.744442   \n",
       "4  K-Nearest Neighbours  0.614167   0.285004            0.538763     0.634554   \n",
       "7                   SVM  0.552833   0.285147            0.730619     0.504764   \n",
       "\n",
       "      AUROC  F-1 Score  \n",
       "2  0.678117   0.495547  \n",
       "6  0.667226   0.477337  \n",
       "5  0.689588   0.503561  \n",
       "3  0.650508   0.448378  \n",
       "1  0.617076   0.401462  \n",
       "0  0.587961   0.363097  \n",
       "4  0.586659   0.372799  \n",
       "7  0.617691   0.410200  "
      ]
     },
     "execution_count": 66,
     "metadata": {},
     "output_type": "execute_result"
    }
   ],
   "source": [
    "df.sort_values(by=['Accuracy'], ascending=False)"
   ]
  },
  {
   "cell_type": "markdown",
   "metadata": {},
   "source": [
    "# Step 6 Feature Selection"
   ]
  },
  {
   "cell_type": "code",
   "execution_count": 89,
   "metadata": {},
   "outputs": [],
   "source": [
    "from sklearn.feature_selection import VarianceThreshold\n",
    "from sklearn.feature_selection import SelectFromModel\n",
    "from sklearn.ensemble import RandomForestClassifier\n",
    "from sklearn.feature_selection import SelectKBest\n",
    "from sklearn.feature_selection import chi2\n",
    "from sklearn.tree import DecisionTreeClassifier\n",
    "from boruta import BorutaPy\n",
    "from sklearn.feature_selection import RFE"
   ]
  },
  {
   "cell_type": "markdown",
   "metadata": {},
   "source": [
    "## 6.1 Boruta"
   ]
  },
  {
   "cell_type": "code",
   "execution_count": 90,
   "metadata": {},
   "outputs": [
    {
     "name": "stderr",
     "output_type": "stream",
     "text": [
      "C:\\ProgramData\\Anaconda3\\lib\\site-packages\\sklearn\\utils\\validation.py:72: DataConversionWarning: A column-vector y was passed when a 1d array was expected. Please change the shape of y to (n_samples, ), for example using ravel().\n",
      "  return f(**kwargs)\n",
      "C:\\ProgramData\\Anaconda3\\lib\\site-packages\\boruta\\boruta_py.py:384: DataConversionWarning: A column-vector y was passed when a 1d array was expected. Please change the shape of y to (n_samples,), for example using ravel().\n",
      "  self.estimator.fit(X, y)\n"
     ]
    },
    {
     "name": "stdout",
     "output_type": "stream",
     "text": [
      "Iteration: \t1 / 25\n",
      "Confirmed: \t0\n",
      "Tentative: \t23\n",
      "Rejected: \t0\n"
     ]
    },
    {
     "name": "stderr",
     "output_type": "stream",
     "text": [
      "C:\\ProgramData\\Anaconda3\\lib\\site-packages\\boruta\\boruta_py.py:384: DataConversionWarning: A column-vector y was passed when a 1d array was expected. Please change the shape of y to (n_samples,), for example using ravel().\n",
      "  self.estimator.fit(X, y)\n"
     ]
    },
    {
     "name": "stdout",
     "output_type": "stream",
     "text": [
      "Iteration: \t2 / 25\n",
      "Confirmed: \t0\n",
      "Tentative: \t23\n",
      "Rejected: \t0\n"
     ]
    },
    {
     "name": "stderr",
     "output_type": "stream",
     "text": [
      "C:\\ProgramData\\Anaconda3\\lib\\site-packages\\boruta\\boruta_py.py:384: DataConversionWarning: A column-vector y was passed when a 1d array was expected. Please change the shape of y to (n_samples,), for example using ravel().\n",
      "  self.estimator.fit(X, y)\n"
     ]
    },
    {
     "name": "stdout",
     "output_type": "stream",
     "text": [
      "Iteration: \t3 / 25\n",
      "Confirmed: \t0\n",
      "Tentative: \t23\n",
      "Rejected: \t0\n"
     ]
    },
    {
     "name": "stderr",
     "output_type": "stream",
     "text": [
      "C:\\ProgramData\\Anaconda3\\lib\\site-packages\\boruta\\boruta_py.py:384: DataConversionWarning: A column-vector y was passed when a 1d array was expected. Please change the shape of y to (n_samples,), for example using ravel().\n",
      "  self.estimator.fit(X, y)\n"
     ]
    },
    {
     "name": "stdout",
     "output_type": "stream",
     "text": [
      "Iteration: \t4 / 25\n",
      "Confirmed: \t0\n",
      "Tentative: \t23\n",
      "Rejected: \t0\n"
     ]
    },
    {
     "name": "stderr",
     "output_type": "stream",
     "text": [
      "C:\\ProgramData\\Anaconda3\\lib\\site-packages\\boruta\\boruta_py.py:384: DataConversionWarning: A column-vector y was passed when a 1d array was expected. Please change the shape of y to (n_samples,), for example using ravel().\n",
      "  self.estimator.fit(X, y)\n"
     ]
    },
    {
     "name": "stdout",
     "output_type": "stream",
     "text": [
      "Iteration: \t5 / 25\n",
      "Confirmed: \t0\n",
      "Tentative: \t23\n",
      "Rejected: \t0\n"
     ]
    },
    {
     "name": "stderr",
     "output_type": "stream",
     "text": [
      "C:\\ProgramData\\Anaconda3\\lib\\site-packages\\boruta\\boruta_py.py:384: DataConversionWarning: A column-vector y was passed when a 1d array was expected. Please change the shape of y to (n_samples,), for example using ravel().\n",
      "  self.estimator.fit(X, y)\n"
     ]
    },
    {
     "name": "stdout",
     "output_type": "stream",
     "text": [
      "Iteration: \t6 / 25\n",
      "Confirmed: \t0\n",
      "Tentative: \t23\n",
      "Rejected: \t0\n"
     ]
    },
    {
     "name": "stderr",
     "output_type": "stream",
     "text": [
      "C:\\ProgramData\\Anaconda3\\lib\\site-packages\\boruta\\boruta_py.py:384: DataConversionWarning: A column-vector y was passed when a 1d array was expected. Please change the shape of y to (n_samples,), for example using ravel().\n",
      "  self.estimator.fit(X, y)\n"
     ]
    },
    {
     "name": "stdout",
     "output_type": "stream",
     "text": [
      "Iteration: \t7 / 25\n",
      "Confirmed: \t0\n",
      "Tentative: \t23\n",
      "Rejected: \t0\n"
     ]
    },
    {
     "name": "stderr",
     "output_type": "stream",
     "text": [
      "C:\\ProgramData\\Anaconda3\\lib\\site-packages\\boruta\\boruta_py.py:384: DataConversionWarning: A column-vector y was passed when a 1d array was expected. Please change the shape of y to (n_samples,), for example using ravel().\n",
      "  self.estimator.fit(X, y)\n"
     ]
    },
    {
     "name": "stdout",
     "output_type": "stream",
     "text": [
      "Iteration: \t8 / 25\n",
      "Confirmed: \t2\n",
      "Tentative: \t0\n",
      "Rejected: \t21\n",
      "\n",
      "\n",
      "BorutaPy finished running.\n",
      "\n",
      "Iteration: \t9 / 25\n",
      "Confirmed: \t2\n",
      "Tentative: \t0\n",
      "Rejected: \t21\n"
     ]
    },
    {
     "data": {
      "text/html": [
       "<div>\n",
       "<style scoped>\n",
       "    .dataframe tbody tr th:only-of-type {\n",
       "        vertical-align: middle;\n",
       "    }\n",
       "\n",
       "    .dataframe tbody tr th {\n",
       "        vertical-align: top;\n",
       "    }\n",
       "\n",
       "    .dataframe thead th {\n",
       "        text-align: right;\n",
       "    }\n",
       "</style>\n",
       "<table border=\"1\" class=\"dataframe\">\n",
       "  <thead>\n",
       "    <tr style=\"text-align: right;\">\n",
       "      <th></th>\n",
       "      <th>Column name</th>\n",
       "      <th>Feature</th>\n",
       "    </tr>\n",
       "  </thead>\n",
       "  <tbody>\n",
       "    <tr>\n",
       "      <th>0</th>\n",
       "      <td>Credit_Amount</td>\n",
       "      <td>False</td>\n",
       "    </tr>\n",
       "    <tr>\n",
       "      <th>1</th>\n",
       "      <td>Gender</td>\n",
       "      <td>False</td>\n",
       "    </tr>\n",
       "    <tr>\n",
       "      <th>2</th>\n",
       "      <td>Academic_Qualification</td>\n",
       "      <td>False</td>\n",
       "    </tr>\n",
       "    <tr>\n",
       "      <th>3</th>\n",
       "      <td>Marital</td>\n",
       "      <td>False</td>\n",
       "    </tr>\n",
       "    <tr>\n",
       "      <th>4</th>\n",
       "      <td>Age_Years</td>\n",
       "      <td>False</td>\n",
       "    </tr>\n",
       "    <tr>\n",
       "      <th>5</th>\n",
       "      <td>Repayment_Status_Jan</td>\n",
       "      <td>True</td>\n",
       "    </tr>\n",
       "    <tr>\n",
       "      <th>6</th>\n",
       "      <td>Repayment_Status_Feb</td>\n",
       "      <td>True</td>\n",
       "    </tr>\n",
       "    <tr>\n",
       "      <th>7</th>\n",
       "      <td>Repayment_Status_March</td>\n",
       "      <td>False</td>\n",
       "    </tr>\n",
       "    <tr>\n",
       "      <th>8</th>\n",
       "      <td>Repayment_Status_April</td>\n",
       "      <td>False</td>\n",
       "    </tr>\n",
       "    <tr>\n",
       "      <th>9</th>\n",
       "      <td>Repayment_Status_May</td>\n",
       "      <td>False</td>\n",
       "    </tr>\n",
       "    <tr>\n",
       "      <th>10</th>\n",
       "      <td>Repayment_Status_June</td>\n",
       "      <td>False</td>\n",
       "    </tr>\n",
       "    <tr>\n",
       "      <th>11</th>\n",
       "      <td>Jan_Bill_Amount</td>\n",
       "      <td>False</td>\n",
       "    </tr>\n",
       "    <tr>\n",
       "      <th>12</th>\n",
       "      <td>Feb_Bill_Amount</td>\n",
       "      <td>False</td>\n",
       "    </tr>\n",
       "    <tr>\n",
       "      <th>13</th>\n",
       "      <td>March_Bill_Amount</td>\n",
       "      <td>False</td>\n",
       "    </tr>\n",
       "    <tr>\n",
       "      <th>14</th>\n",
       "      <td>April_Bill_Amount</td>\n",
       "      <td>False</td>\n",
       "    </tr>\n",
       "    <tr>\n",
       "      <th>15</th>\n",
       "      <td>May_Bill_Amount</td>\n",
       "      <td>False</td>\n",
       "    </tr>\n",
       "    <tr>\n",
       "      <th>16</th>\n",
       "      <td>June_Bill_Amount</td>\n",
       "      <td>False</td>\n",
       "    </tr>\n",
       "    <tr>\n",
       "      <th>17</th>\n",
       "      <td>Previous_Payment_Jan</td>\n",
       "      <td>False</td>\n",
       "    </tr>\n",
       "    <tr>\n",
       "      <th>18</th>\n",
       "      <td>Previous_Payment_Feb</td>\n",
       "      <td>False</td>\n",
       "    </tr>\n",
       "    <tr>\n",
       "      <th>19</th>\n",
       "      <td>Previous_Payment_March</td>\n",
       "      <td>False</td>\n",
       "    </tr>\n",
       "    <tr>\n",
       "      <th>20</th>\n",
       "      <td>Previous_Payment_April</td>\n",
       "      <td>False</td>\n",
       "    </tr>\n",
       "    <tr>\n",
       "      <th>21</th>\n",
       "      <td>Previous_Payment_May</td>\n",
       "      <td>False</td>\n",
       "    </tr>\n",
       "    <tr>\n",
       "      <th>22</th>\n",
       "      <td>Previous_Payment_June</td>\n",
       "      <td>False</td>\n",
       "    </tr>\n",
       "  </tbody>\n",
       "</table>\n",
       "</div>"
      ],
      "text/plain": [
       "               Column name  Feature\n",
       "0            Credit_Amount    False\n",
       "1                   Gender    False\n",
       "2   Academic_Qualification    False\n",
       "3                  Marital    False\n",
       "4                Age_Years    False\n",
       "5     Repayment_Status_Jan     True\n",
       "6     Repayment_Status_Feb     True\n",
       "7   Repayment_Status_March    False\n",
       "8   Repayment_Status_April    False\n",
       "9     Repayment_Status_May    False\n",
       "10   Repayment_Status_June    False\n",
       "11         Jan_Bill_Amount    False\n",
       "12         Feb_Bill_Amount    False\n",
       "13       March_Bill_Amount    False\n",
       "14       April_Bill_Amount    False\n",
       "15         May_Bill_Amount    False\n",
       "16        June_Bill_Amount    False\n",
       "17    Previous_Payment_Jan    False\n",
       "18    Previous_Payment_Feb    False\n",
       "19  Previous_Payment_March    False\n",
       "20  Previous_Payment_April    False\n",
       "21    Previous_Payment_May    False\n",
       "22   Previous_Payment_June    False"
      ]
     },
     "execution_count": 90,
     "metadata": {},
     "output_type": "execute_result"
    }
   ],
   "source": [
    "CCDP_x1 = np.array(CCDP_x)\n",
    "CCDP_y1 = np.array(CCDP_y)\n",
    "rf = RandomForestClassifier()\n",
    "boruta_feature_selector = BorutaPy(rf, random_state = 111, max_iter = 25, perc = 100, verbose = 2)\n",
    "boruta_feature_selector.fit(CCDP_x1, CCDP_y1)\n",
    "df4 = pd.DataFrame({\"Column name\": CCDP_x.columns, \"Feature\": boruta_feature_selector.support_})\n",
    "df4"
   ]
  },
  {
   "cell_type": "markdown",
   "metadata": {},
   "source": [
    "## 6.2 Recursive Feature Selection"
   ]
  },
  {
   "cell_type": "code",
   "execution_count": 91,
   "metadata": {},
   "outputs": [
    {
     "name": "stderr",
     "output_type": "stream",
     "text": [
      "C:\\ProgramData\\Anaconda3\\lib\\site-packages\\sklearn\\utils\\validation.py:67: FutureWarning: Pass n_features_to_select=10 as keyword args. From version 0.25 passing these as positional arguments will result in an error\n",
      "  warnings.warn(\"Pass {} as keyword args. From version 0.25 \"\n",
      "C:\\ProgramData\\Anaconda3\\lib\\site-packages\\sklearn\\feature_selection\\_rfe.py:196: DataConversionWarning: A column-vector y was passed when a 1d array was expected. Please change the shape of y to (n_samples,), for example using ravel().\n",
      "  estimator.fit(X[:, features], y)\n",
      "C:\\ProgramData\\Anaconda3\\lib\\site-packages\\sklearn\\feature_selection\\_rfe.py:196: DataConversionWarning: A column-vector y was passed when a 1d array was expected. Please change the shape of y to (n_samples,), for example using ravel().\n",
      "  estimator.fit(X[:, features], y)\n",
      "C:\\ProgramData\\Anaconda3\\lib\\site-packages\\sklearn\\feature_selection\\_rfe.py:196: DataConversionWarning: A column-vector y was passed when a 1d array was expected. Please change the shape of y to (n_samples,), for example using ravel().\n",
      "  estimator.fit(X[:, features], y)\n",
      "C:\\ProgramData\\Anaconda3\\lib\\site-packages\\sklearn\\feature_selection\\_rfe.py:196: DataConversionWarning: A column-vector y was passed when a 1d array was expected. Please change the shape of y to (n_samples,), for example using ravel().\n",
      "  estimator.fit(X[:, features], y)\n",
      "C:\\ProgramData\\Anaconda3\\lib\\site-packages\\sklearn\\feature_selection\\_rfe.py:196: DataConversionWarning: A column-vector y was passed when a 1d array was expected. Please change the shape of y to (n_samples,), for example using ravel().\n",
      "  estimator.fit(X[:, features], y)\n",
      "C:\\ProgramData\\Anaconda3\\lib\\site-packages\\sklearn\\feature_selection\\_rfe.py:196: DataConversionWarning: A column-vector y was passed when a 1d array was expected. Please change the shape of y to (n_samples,), for example using ravel().\n",
      "  estimator.fit(X[:, features], y)\n",
      "C:\\ProgramData\\Anaconda3\\lib\\site-packages\\sklearn\\feature_selection\\_rfe.py:196: DataConversionWarning: A column-vector y was passed when a 1d array was expected. Please change the shape of y to (n_samples,), for example using ravel().\n",
      "  estimator.fit(X[:, features], y)\n",
      "C:\\ProgramData\\Anaconda3\\lib\\site-packages\\sklearn\\feature_selection\\_rfe.py:196: DataConversionWarning: A column-vector y was passed when a 1d array was expected. Please change the shape of y to (n_samples,), for example using ravel().\n",
      "  estimator.fit(X[:, features], y)\n",
      "C:\\ProgramData\\Anaconda3\\lib\\site-packages\\sklearn\\feature_selection\\_rfe.py:196: DataConversionWarning: A column-vector y was passed when a 1d array was expected. Please change the shape of y to (n_samples,), for example using ravel().\n",
      "  estimator.fit(X[:, features], y)\n",
      "C:\\ProgramData\\Anaconda3\\lib\\site-packages\\sklearn\\feature_selection\\_rfe.py:196: DataConversionWarning: A column-vector y was passed when a 1d array was expected. Please change the shape of y to (n_samples,), for example using ravel().\n",
      "  estimator.fit(X[:, features], y)\n",
      "C:\\ProgramData\\Anaconda3\\lib\\site-packages\\sklearn\\feature_selection\\_rfe.py:196: DataConversionWarning: A column-vector y was passed when a 1d array was expected. Please change the shape of y to (n_samples,), for example using ravel().\n",
      "  estimator.fit(X[:, features], y)\n",
      "C:\\ProgramData\\Anaconda3\\lib\\site-packages\\sklearn\\feature_selection\\_rfe.py:196: DataConversionWarning: A column-vector y was passed when a 1d array was expected. Please change the shape of y to (n_samples,), for example using ravel().\n",
      "  estimator.fit(X[:, features], y)\n",
      "C:\\ProgramData\\Anaconda3\\lib\\site-packages\\sklearn\\feature_selection\\_rfe.py:196: DataConversionWarning: A column-vector y was passed when a 1d array was expected. Please change the shape of y to (n_samples,), for example using ravel().\n",
      "  estimator.fit(X[:, features], y)\n",
      "C:\\ProgramData\\Anaconda3\\lib\\site-packages\\sklearn\\feature_selection\\_rfe.py:231: DataConversionWarning: A column-vector y was passed when a 1d array was expected. Please change the shape of y to (n_samples,), for example using ravel().\n",
      "  self.estimator_.fit(X[:, features], y)\n"
     ]
    },
    {
     "data": {
      "text/html": [
       "<div>\n",
       "<style scoped>\n",
       "    .dataframe tbody tr th:only-of-type {\n",
       "        vertical-align: middle;\n",
       "    }\n",
       "\n",
       "    .dataframe tbody tr th {\n",
       "        vertical-align: top;\n",
       "    }\n",
       "\n",
       "    .dataframe thead th {\n",
       "        text-align: right;\n",
       "    }\n",
       "</style>\n",
       "<table border=\"1\" class=\"dataframe\">\n",
       "  <thead>\n",
       "    <tr style=\"text-align: right;\">\n",
       "      <th></th>\n",
       "      <th>Column name</th>\n",
       "      <th>Feature</th>\n",
       "    </tr>\n",
       "  </thead>\n",
       "  <tbody>\n",
       "    <tr>\n",
       "      <th>0</th>\n",
       "      <td>Credit_Amount</td>\n",
       "      <td>False</td>\n",
       "    </tr>\n",
       "    <tr>\n",
       "      <th>1</th>\n",
       "      <td>Gender</td>\n",
       "      <td>False</td>\n",
       "    </tr>\n",
       "    <tr>\n",
       "      <th>2</th>\n",
       "      <td>Academic_Qualification</td>\n",
       "      <td>False</td>\n",
       "    </tr>\n",
       "    <tr>\n",
       "      <th>3</th>\n",
       "      <td>Marital</td>\n",
       "      <td>False</td>\n",
       "    </tr>\n",
       "    <tr>\n",
       "      <th>4</th>\n",
       "      <td>Age_Years</td>\n",
       "      <td>True</td>\n",
       "    </tr>\n",
       "    <tr>\n",
       "      <th>5</th>\n",
       "      <td>Repayment_Status_Jan</td>\n",
       "      <td>True</td>\n",
       "    </tr>\n",
       "    <tr>\n",
       "      <th>6</th>\n",
       "      <td>Repayment_Status_Feb</td>\n",
       "      <td>False</td>\n",
       "    </tr>\n",
       "    <tr>\n",
       "      <th>7</th>\n",
       "      <td>Repayment_Status_March</td>\n",
       "      <td>False</td>\n",
       "    </tr>\n",
       "    <tr>\n",
       "      <th>8</th>\n",
       "      <td>Repayment_Status_April</td>\n",
       "      <td>False</td>\n",
       "    </tr>\n",
       "    <tr>\n",
       "      <th>9</th>\n",
       "      <td>Repayment_Status_May</td>\n",
       "      <td>False</td>\n",
       "    </tr>\n",
       "    <tr>\n",
       "      <th>10</th>\n",
       "      <td>Repayment_Status_June</td>\n",
       "      <td>False</td>\n",
       "    </tr>\n",
       "    <tr>\n",
       "      <th>11</th>\n",
       "      <td>Jan_Bill_Amount</td>\n",
       "      <td>True</td>\n",
       "    </tr>\n",
       "    <tr>\n",
       "      <th>12</th>\n",
       "      <td>Feb_Bill_Amount</td>\n",
       "      <td>True</td>\n",
       "    </tr>\n",
       "    <tr>\n",
       "      <th>13</th>\n",
       "      <td>March_Bill_Amount</td>\n",
       "      <td>True</td>\n",
       "    </tr>\n",
       "    <tr>\n",
       "      <th>14</th>\n",
       "      <td>April_Bill_Amount</td>\n",
       "      <td>True</td>\n",
       "    </tr>\n",
       "    <tr>\n",
       "      <th>15</th>\n",
       "      <td>May_Bill_Amount</td>\n",
       "      <td>True</td>\n",
       "    </tr>\n",
       "    <tr>\n",
       "      <th>16</th>\n",
       "      <td>June_Bill_Amount</td>\n",
       "      <td>True</td>\n",
       "    </tr>\n",
       "    <tr>\n",
       "      <th>17</th>\n",
       "      <td>Previous_Payment_Jan</td>\n",
       "      <td>True</td>\n",
       "    </tr>\n",
       "    <tr>\n",
       "      <th>18</th>\n",
       "      <td>Previous_Payment_Feb</td>\n",
       "      <td>True</td>\n",
       "    </tr>\n",
       "    <tr>\n",
       "      <th>19</th>\n",
       "      <td>Previous_Payment_March</td>\n",
       "      <td>False</td>\n",
       "    </tr>\n",
       "    <tr>\n",
       "      <th>20</th>\n",
       "      <td>Previous_Payment_April</td>\n",
       "      <td>False</td>\n",
       "    </tr>\n",
       "    <tr>\n",
       "      <th>21</th>\n",
       "      <td>Previous_Payment_May</td>\n",
       "      <td>False</td>\n",
       "    </tr>\n",
       "    <tr>\n",
       "      <th>22</th>\n",
       "      <td>Previous_Payment_June</td>\n",
       "      <td>False</td>\n",
       "    </tr>\n",
       "  </tbody>\n",
       "</table>\n",
       "</div>"
      ],
      "text/plain": [
       "               Column name  Feature\n",
       "0            Credit_Amount    False\n",
       "1                   Gender    False\n",
       "2   Academic_Qualification    False\n",
       "3                  Marital    False\n",
       "4                Age_Years     True\n",
       "5     Repayment_Status_Jan     True\n",
       "6     Repayment_Status_Feb    False\n",
       "7   Repayment_Status_March    False\n",
       "8   Repayment_Status_April    False\n",
       "9     Repayment_Status_May    False\n",
       "10   Repayment_Status_June    False\n",
       "11         Jan_Bill_Amount     True\n",
       "12         Feb_Bill_Amount     True\n",
       "13       March_Bill_Amount     True\n",
       "14       April_Bill_Amount     True\n",
       "15         May_Bill_Amount     True\n",
       "16        June_Bill_Amount     True\n",
       "17    Previous_Payment_Jan     True\n",
       "18    Previous_Payment_Feb     True\n",
       "19  Previous_Payment_March    False\n",
       "20  Previous_Payment_April    False\n",
       "21    Previous_Payment_May    False\n",
       "22   Previous_Payment_June    False"
      ]
     },
     "execution_count": 91,
     "metadata": {},
     "output_type": "execute_result"
    }
   ],
   "source": [
    "rfc = RandomForestClassifier()\n",
    "rfe_rfc = RFE(rfc, 10) #...top 5 important feature\n",
    "rfe_rfc.fit(CCDP_x, CCDP_y)\n",
    "df5 = pd.DataFrame({\"Column name\": CCDP_x.columns, \"Feature\": rfe_rfc.support_})\n",
    "df5"
   ]
  },
  {
   "cell_type": "markdown",
   "metadata": {},
   "source": [
    "## 6.3 Feature Importance By Decision Tree"
   ]
  },
  {
   "cell_type": "code",
   "execution_count": 92,
   "metadata": {},
   "outputs": [
    {
     "data": {
      "text/html": [
       "<div>\n",
       "<style scoped>\n",
       "    .dataframe tbody tr th:only-of-type {\n",
       "        vertical-align: middle;\n",
       "    }\n",
       "\n",
       "    .dataframe tbody tr th {\n",
       "        vertical-align: top;\n",
       "    }\n",
       "\n",
       "    .dataframe thead th {\n",
       "        text-align: right;\n",
       "    }\n",
       "</style>\n",
       "<table border=\"1\" class=\"dataframe\">\n",
       "  <thead>\n",
       "    <tr style=\"text-align: right;\">\n",
       "      <th></th>\n",
       "      <th>Feauture</th>\n",
       "      <th>Importance</th>\n",
       "    </tr>\n",
       "  </thead>\n",
       "  <tbody>\n",
       "    <tr>\n",
       "      <th>0</th>\n",
       "      <td>Credit_Amount</td>\n",
       "      <td>0.050943</td>\n",
       "    </tr>\n",
       "    <tr>\n",
       "      <th>1</th>\n",
       "      <td>Gender</td>\n",
       "      <td>0.011222</td>\n",
       "    </tr>\n",
       "    <tr>\n",
       "      <th>2</th>\n",
       "      <td>Academic_Qualification</td>\n",
       "      <td>0.023392</td>\n",
       "    </tr>\n",
       "    <tr>\n",
       "      <th>3</th>\n",
       "      <td>Marital</td>\n",
       "      <td>0.015830</td>\n",
       "    </tr>\n",
       "    <tr>\n",
       "      <th>4</th>\n",
       "      <td>Age_Years</td>\n",
       "      <td>0.068843</td>\n",
       "    </tr>\n",
       "    <tr>\n",
       "      <th>5</th>\n",
       "      <td>Repayment_Status_Jan</td>\n",
       "      <td>0.157622</td>\n",
       "    </tr>\n",
       "    <tr>\n",
       "      <th>6</th>\n",
       "      <td>Repayment_Status_Feb</td>\n",
       "      <td>0.032313</td>\n",
       "    </tr>\n",
       "    <tr>\n",
       "      <th>7</th>\n",
       "      <td>Repayment_Status_March</td>\n",
       "      <td>0.005787</td>\n",
       "    </tr>\n",
       "    <tr>\n",
       "      <th>8</th>\n",
       "      <td>Repayment_Status_April</td>\n",
       "      <td>0.003315</td>\n",
       "    </tr>\n",
       "    <tr>\n",
       "      <th>9</th>\n",
       "      <td>Repayment_Status_May</td>\n",
       "      <td>0.007973</td>\n",
       "    </tr>\n",
       "    <tr>\n",
       "      <th>10</th>\n",
       "      <td>Repayment_Status_June</td>\n",
       "      <td>0.007564</td>\n",
       "    </tr>\n",
       "    <tr>\n",
       "      <th>11</th>\n",
       "      <td>Jan_Bill_Amount</td>\n",
       "      <td>0.073636</td>\n",
       "    </tr>\n",
       "    <tr>\n",
       "      <th>12</th>\n",
       "      <td>Feb_Bill_Amount</td>\n",
       "      <td>0.051188</td>\n",
       "    </tr>\n",
       "    <tr>\n",
       "      <th>13</th>\n",
       "      <td>March_Bill_Amount</td>\n",
       "      <td>0.050877</td>\n",
       "    </tr>\n",
       "    <tr>\n",
       "      <th>14</th>\n",
       "      <td>April_Bill_Amount</td>\n",
       "      <td>0.053933</td>\n",
       "    </tr>\n",
       "    <tr>\n",
       "      <th>15</th>\n",
       "      <td>May_Bill_Amount</td>\n",
       "      <td>0.051405</td>\n",
       "    </tr>\n",
       "    <tr>\n",
       "      <th>16</th>\n",
       "      <td>June_Bill_Amount</td>\n",
       "      <td>0.048973</td>\n",
       "    </tr>\n",
       "    <tr>\n",
       "      <th>17</th>\n",
       "      <td>Previous_Payment_Jan</td>\n",
       "      <td>0.045794</td>\n",
       "    </tr>\n",
       "    <tr>\n",
       "      <th>18</th>\n",
       "      <td>Previous_Payment_Feb</td>\n",
       "      <td>0.051734</td>\n",
       "    </tr>\n",
       "    <tr>\n",
       "      <th>19</th>\n",
       "      <td>Previous_Payment_March</td>\n",
       "      <td>0.055145</td>\n",
       "    </tr>\n",
       "    <tr>\n",
       "      <th>20</th>\n",
       "      <td>Previous_Payment_April</td>\n",
       "      <td>0.038506</td>\n",
       "    </tr>\n",
       "    <tr>\n",
       "      <th>21</th>\n",
       "      <td>Previous_Payment_May</td>\n",
       "      <td>0.046644</td>\n",
       "    </tr>\n",
       "    <tr>\n",
       "      <th>22</th>\n",
       "      <td>Previous_Payment_June</td>\n",
       "      <td>0.047360</td>\n",
       "    </tr>\n",
       "  </tbody>\n",
       "</table>\n",
       "</div>"
      ],
      "text/plain": [
       "                  Feauture  Importance\n",
       "0            Credit_Amount    0.050943\n",
       "1                   Gender    0.011222\n",
       "2   Academic_Qualification    0.023392\n",
       "3                  Marital    0.015830\n",
       "4                Age_Years    0.068843\n",
       "5     Repayment_Status_Jan    0.157622\n",
       "6     Repayment_Status_Feb    0.032313\n",
       "7   Repayment_Status_March    0.005787\n",
       "8   Repayment_Status_April    0.003315\n",
       "9     Repayment_Status_May    0.007973\n",
       "10   Repayment_Status_June    0.007564\n",
       "11         Jan_Bill_Amount    0.073636\n",
       "12         Feb_Bill_Amount    0.051188\n",
       "13       March_Bill_Amount    0.050877\n",
       "14       April_Bill_Amount    0.053933\n",
       "15         May_Bill_Amount    0.051405\n",
       "16        June_Bill_Amount    0.048973\n",
       "17    Previous_Payment_Jan    0.045794\n",
       "18    Previous_Payment_Feb    0.051734\n",
       "19  Previous_Payment_March    0.055145\n",
       "20  Previous_Payment_April    0.038506\n",
       "21    Previous_Payment_May    0.046644\n",
       "22   Previous_Payment_June    0.047360"
      ]
     },
     "execution_count": 92,
     "metadata": {},
     "output_type": "execute_result"
    }
   ],
   "source": [
    "dtree_fi = DecisionTreeClassifier()\n",
    "dtree_fi.fit(CCDP_x,CCDP_y)\n",
    "df6 = pd.DataFrame({\"Feauture\": CCDP_x.columns, \"Importance\": dtree_fi.feature_importances_})\n",
    "df6"
   ]
  },
  {
   "cell_type": "markdown",
   "metadata": {},
   "source": [
    "## 6.4 Feature Importance By Random Forest"
   ]
  },
  {
   "cell_type": "code",
   "execution_count": 93,
   "metadata": {},
   "outputs": [
    {
     "name": "stderr",
     "output_type": "stream",
     "text": [
      "<ipython-input-93-41c477fe33a7>:2: DataConversionWarning: A column-vector y was passed when a 1d array was expected. Please change the shape of y to (n_samples,), for example using ravel().\n",
      "  rfc_fi.fit(CCDP_x, CCDP_y)\n"
     ]
    },
    {
     "data": {
      "text/html": [
       "<div>\n",
       "<style scoped>\n",
       "    .dataframe tbody tr th:only-of-type {\n",
       "        vertical-align: middle;\n",
       "    }\n",
       "\n",
       "    .dataframe tbody tr th {\n",
       "        vertical-align: top;\n",
       "    }\n",
       "\n",
       "    .dataframe thead th {\n",
       "        text-align: right;\n",
       "    }\n",
       "</style>\n",
       "<table border=\"1\" class=\"dataframe\">\n",
       "  <thead>\n",
       "    <tr style=\"text-align: right;\">\n",
       "      <th></th>\n",
       "      <th>Feauture</th>\n",
       "      <th>Importance</th>\n",
       "    </tr>\n",
       "  </thead>\n",
       "  <tbody>\n",
       "    <tr>\n",
       "      <th>0</th>\n",
       "      <td>Credit_Amount</td>\n",
       "      <td>0.055823</td>\n",
       "    </tr>\n",
       "    <tr>\n",
       "      <th>1</th>\n",
       "      <td>Gender</td>\n",
       "      <td>0.012085</td>\n",
       "    </tr>\n",
       "    <tr>\n",
       "      <th>2</th>\n",
       "      <td>Academic_Qualification</td>\n",
       "      <td>0.021470</td>\n",
       "    </tr>\n",
       "    <tr>\n",
       "      <th>3</th>\n",
       "      <td>Marital</td>\n",
       "      <td>0.014307</td>\n",
       "    </tr>\n",
       "    <tr>\n",
       "      <th>4</th>\n",
       "      <td>Age_Years</td>\n",
       "      <td>0.069788</td>\n",
       "    </tr>\n",
       "    <tr>\n",
       "      <th>5</th>\n",
       "      <td>Repayment_Status_Jan</td>\n",
       "      <td>0.088339</td>\n",
       "    </tr>\n",
       "    <tr>\n",
       "      <th>6</th>\n",
       "      <td>Repayment_Status_Feb</td>\n",
       "      <td>0.045429</td>\n",
       "    </tr>\n",
       "    <tr>\n",
       "      <th>7</th>\n",
       "      <td>Repayment_Status_March</td>\n",
       "      <td>0.025769</td>\n",
       "    </tr>\n",
       "    <tr>\n",
       "      <th>8</th>\n",
       "      <td>Repayment_Status_April</td>\n",
       "      <td>0.015707</td>\n",
       "    </tr>\n",
       "    <tr>\n",
       "      <th>9</th>\n",
       "      <td>Repayment_Status_May</td>\n",
       "      <td>0.016878</td>\n",
       "    </tr>\n",
       "    <tr>\n",
       "      <th>10</th>\n",
       "      <td>Repayment_Status_June</td>\n",
       "      <td>0.013948</td>\n",
       "    </tr>\n",
       "    <tr>\n",
       "      <th>11</th>\n",
       "      <td>Jan_Bill_Amount</td>\n",
       "      <td>0.064325</td>\n",
       "    </tr>\n",
       "    <tr>\n",
       "      <th>12</th>\n",
       "      <td>Feb_Bill_Amount</td>\n",
       "      <td>0.057887</td>\n",
       "    </tr>\n",
       "    <tr>\n",
       "      <th>13</th>\n",
       "      <td>March_Bill_Amount</td>\n",
       "      <td>0.054712</td>\n",
       "    </tr>\n",
       "    <tr>\n",
       "      <th>14</th>\n",
       "      <td>April_Bill_Amount</td>\n",
       "      <td>0.053650</td>\n",
       "    </tr>\n",
       "    <tr>\n",
       "      <th>15</th>\n",
       "      <td>May_Bill_Amount</td>\n",
       "      <td>0.052805</td>\n",
       "    </tr>\n",
       "    <tr>\n",
       "      <th>16</th>\n",
       "      <td>June_Bill_Amount</td>\n",
       "      <td>0.053014</td>\n",
       "    </tr>\n",
       "    <tr>\n",
       "      <th>17</th>\n",
       "      <td>Previous_Payment_Jan</td>\n",
       "      <td>0.050649</td>\n",
       "    </tr>\n",
       "    <tr>\n",
       "      <th>18</th>\n",
       "      <td>Previous_Payment_Feb</td>\n",
       "      <td>0.049489</td>\n",
       "    </tr>\n",
       "    <tr>\n",
       "      <th>19</th>\n",
       "      <td>Previous_Payment_March</td>\n",
       "      <td>0.047223</td>\n",
       "    </tr>\n",
       "    <tr>\n",
       "      <th>20</th>\n",
       "      <td>Previous_Payment_April</td>\n",
       "      <td>0.044526</td>\n",
       "    </tr>\n",
       "    <tr>\n",
       "      <th>21</th>\n",
       "      <td>Previous_Payment_May</td>\n",
       "      <td>0.044628</td>\n",
       "    </tr>\n",
       "    <tr>\n",
       "      <th>22</th>\n",
       "      <td>Previous_Payment_June</td>\n",
       "      <td>0.047549</td>\n",
       "    </tr>\n",
       "  </tbody>\n",
       "</table>\n",
       "</div>"
      ],
      "text/plain": [
       "                  Feauture  Importance\n",
       "0            Credit_Amount    0.055823\n",
       "1                   Gender    0.012085\n",
       "2   Academic_Qualification    0.021470\n",
       "3                  Marital    0.014307\n",
       "4                Age_Years    0.069788\n",
       "5     Repayment_Status_Jan    0.088339\n",
       "6     Repayment_Status_Feb    0.045429\n",
       "7   Repayment_Status_March    0.025769\n",
       "8   Repayment_Status_April    0.015707\n",
       "9     Repayment_Status_May    0.016878\n",
       "10   Repayment_Status_June    0.013948\n",
       "11         Jan_Bill_Amount    0.064325\n",
       "12         Feb_Bill_Amount    0.057887\n",
       "13       March_Bill_Amount    0.054712\n",
       "14       April_Bill_Amount    0.053650\n",
       "15         May_Bill_Amount    0.052805\n",
       "16        June_Bill_Amount    0.053014\n",
       "17    Previous_Payment_Jan    0.050649\n",
       "18    Previous_Payment_Feb    0.049489\n",
       "19  Previous_Payment_March    0.047223\n",
       "20  Previous_Payment_April    0.044526\n",
       "21    Previous_Payment_May    0.044628\n",
       "22   Previous_Payment_June    0.047549"
      ]
     },
     "execution_count": 93,
     "metadata": {},
     "output_type": "execute_result"
    }
   ],
   "source": [
    "rfc_fi = RandomForestClassifier()\n",
    "rfc_fi.fit(CCDP_x, CCDP_y)\n",
    "df7 = pd.DataFrame({\"Feauture\": CCDP_x.columns, \"Importance\": rfc_fi.feature_importances_})\n",
    "df7"
   ]
  },
  {
   "cell_type": "markdown",
   "metadata": {},
   "source": [
    "## 6.5 Selection of Features"
   ]
  },
  {
   "cell_type": "code",
   "execution_count": 94,
   "metadata": {},
   "outputs": [
    {
     "data": {
      "text/html": [
       "<div>\n",
       "<style scoped>\n",
       "    .dataframe tbody tr th:only-of-type {\n",
       "        vertical-align: middle;\n",
       "    }\n",
       "\n",
       "    .dataframe tbody tr th {\n",
       "        vertical-align: top;\n",
       "    }\n",
       "\n",
       "    .dataframe thead th {\n",
       "        text-align: right;\n",
       "    }\n",
       "</style>\n",
       "<table border=\"1\" class=\"dataframe\">\n",
       "  <thead>\n",
       "    <tr style=\"text-align: right;\">\n",
       "      <th></th>\n",
       "      <th>Feauture</th>\n",
       "      <th>Importance(Decision Tree)</th>\n",
       "      <th>Importance (RandomForest)</th>\n",
       "      <th>Boruta-Support</th>\n",
       "      <th>RFE-Support</th>\n",
       "    </tr>\n",
       "  </thead>\n",
       "  <tbody>\n",
       "    <tr>\n",
       "      <th>5</th>\n",
       "      <td>Repayment_Status_Jan</td>\n",
       "      <td>0.157622</td>\n",
       "      <td>0.088339</td>\n",
       "      <td>True</td>\n",
       "      <td>True</td>\n",
       "    </tr>\n",
       "    <tr>\n",
       "      <th>4</th>\n",
       "      <td>Age_Years</td>\n",
       "      <td>0.068843</td>\n",
       "      <td>0.069788</td>\n",
       "      <td>False</td>\n",
       "      <td>True</td>\n",
       "    </tr>\n",
       "    <tr>\n",
       "      <th>11</th>\n",
       "      <td>Jan_Bill_Amount</td>\n",
       "      <td>0.073636</td>\n",
       "      <td>0.064325</td>\n",
       "      <td>False</td>\n",
       "      <td>True</td>\n",
       "    </tr>\n",
       "    <tr>\n",
       "      <th>12</th>\n",
       "      <td>Feb_Bill_Amount</td>\n",
       "      <td>0.051188</td>\n",
       "      <td>0.057887</td>\n",
       "      <td>False</td>\n",
       "      <td>True</td>\n",
       "    </tr>\n",
       "    <tr>\n",
       "      <th>0</th>\n",
       "      <td>Credit_Amount</td>\n",
       "      <td>0.050943</td>\n",
       "      <td>0.055823</td>\n",
       "      <td>False</td>\n",
       "      <td>False</td>\n",
       "    </tr>\n",
       "    <tr>\n",
       "      <th>13</th>\n",
       "      <td>March_Bill_Amount</td>\n",
       "      <td>0.050877</td>\n",
       "      <td>0.054712</td>\n",
       "      <td>False</td>\n",
       "      <td>True</td>\n",
       "    </tr>\n",
       "    <tr>\n",
       "      <th>14</th>\n",
       "      <td>April_Bill_Amount</td>\n",
       "      <td>0.053933</td>\n",
       "      <td>0.053650</td>\n",
       "      <td>False</td>\n",
       "      <td>True</td>\n",
       "    </tr>\n",
       "    <tr>\n",
       "      <th>16</th>\n",
       "      <td>June_Bill_Amount</td>\n",
       "      <td>0.048973</td>\n",
       "      <td>0.053014</td>\n",
       "      <td>False</td>\n",
       "      <td>True</td>\n",
       "    </tr>\n",
       "    <tr>\n",
       "      <th>15</th>\n",
       "      <td>May_Bill_Amount</td>\n",
       "      <td>0.051405</td>\n",
       "      <td>0.052805</td>\n",
       "      <td>False</td>\n",
       "      <td>True</td>\n",
       "    </tr>\n",
       "    <tr>\n",
       "      <th>17</th>\n",
       "      <td>Previous_Payment_Jan</td>\n",
       "      <td>0.045794</td>\n",
       "      <td>0.050649</td>\n",
       "      <td>False</td>\n",
       "      <td>True</td>\n",
       "    </tr>\n",
       "    <tr>\n",
       "      <th>18</th>\n",
       "      <td>Previous_Payment_Feb</td>\n",
       "      <td>0.051734</td>\n",
       "      <td>0.049489</td>\n",
       "      <td>False</td>\n",
       "      <td>True</td>\n",
       "    </tr>\n",
       "    <tr>\n",
       "      <th>22</th>\n",
       "      <td>Previous_Payment_June</td>\n",
       "      <td>0.047360</td>\n",
       "      <td>0.047549</td>\n",
       "      <td>False</td>\n",
       "      <td>False</td>\n",
       "    </tr>\n",
       "    <tr>\n",
       "      <th>19</th>\n",
       "      <td>Previous_Payment_March</td>\n",
       "      <td>0.055145</td>\n",
       "      <td>0.047223</td>\n",
       "      <td>False</td>\n",
       "      <td>False</td>\n",
       "    </tr>\n",
       "    <tr>\n",
       "      <th>6</th>\n",
       "      <td>Repayment_Status_Feb</td>\n",
       "      <td>0.032313</td>\n",
       "      <td>0.045429</td>\n",
       "      <td>True</td>\n",
       "      <td>False</td>\n",
       "    </tr>\n",
       "    <tr>\n",
       "      <th>21</th>\n",
       "      <td>Previous_Payment_May</td>\n",
       "      <td>0.046644</td>\n",
       "      <td>0.044628</td>\n",
       "      <td>False</td>\n",
       "      <td>False</td>\n",
       "    </tr>\n",
       "    <tr>\n",
       "      <th>20</th>\n",
       "      <td>Previous_Payment_April</td>\n",
       "      <td>0.038506</td>\n",
       "      <td>0.044526</td>\n",
       "      <td>False</td>\n",
       "      <td>False</td>\n",
       "    </tr>\n",
       "    <tr>\n",
       "      <th>7</th>\n",
       "      <td>Repayment_Status_March</td>\n",
       "      <td>0.005787</td>\n",
       "      <td>0.025769</td>\n",
       "      <td>False</td>\n",
       "      <td>False</td>\n",
       "    </tr>\n",
       "    <tr>\n",
       "      <th>2</th>\n",
       "      <td>Academic_Qualification</td>\n",
       "      <td>0.023392</td>\n",
       "      <td>0.021470</td>\n",
       "      <td>False</td>\n",
       "      <td>False</td>\n",
       "    </tr>\n",
       "    <tr>\n",
       "      <th>9</th>\n",
       "      <td>Repayment_Status_May</td>\n",
       "      <td>0.007973</td>\n",
       "      <td>0.016878</td>\n",
       "      <td>False</td>\n",
       "      <td>False</td>\n",
       "    </tr>\n",
       "    <tr>\n",
       "      <th>8</th>\n",
       "      <td>Repayment_Status_April</td>\n",
       "      <td>0.003315</td>\n",
       "      <td>0.015707</td>\n",
       "      <td>False</td>\n",
       "      <td>False</td>\n",
       "    </tr>\n",
       "    <tr>\n",
       "      <th>3</th>\n",
       "      <td>Marital</td>\n",
       "      <td>0.015830</td>\n",
       "      <td>0.014307</td>\n",
       "      <td>False</td>\n",
       "      <td>False</td>\n",
       "    </tr>\n",
       "    <tr>\n",
       "      <th>10</th>\n",
       "      <td>Repayment_Status_June</td>\n",
       "      <td>0.007564</td>\n",
       "      <td>0.013948</td>\n",
       "      <td>False</td>\n",
       "      <td>False</td>\n",
       "    </tr>\n",
       "    <tr>\n",
       "      <th>1</th>\n",
       "      <td>Gender</td>\n",
       "      <td>0.011222</td>\n",
       "      <td>0.012085</td>\n",
       "      <td>False</td>\n",
       "      <td>False</td>\n",
       "    </tr>\n",
       "  </tbody>\n",
       "</table>\n",
       "</div>"
      ],
      "text/plain": [
       "                  Feauture  Importance(Decision Tree)  \\\n",
       "5     Repayment_Status_Jan                   0.157622   \n",
       "4                Age_Years                   0.068843   \n",
       "11         Jan_Bill_Amount                   0.073636   \n",
       "12         Feb_Bill_Amount                   0.051188   \n",
       "0            Credit_Amount                   0.050943   \n",
       "13       March_Bill_Amount                   0.050877   \n",
       "14       April_Bill_Amount                   0.053933   \n",
       "16        June_Bill_Amount                   0.048973   \n",
       "15         May_Bill_Amount                   0.051405   \n",
       "17    Previous_Payment_Jan                   0.045794   \n",
       "18    Previous_Payment_Feb                   0.051734   \n",
       "22   Previous_Payment_June                   0.047360   \n",
       "19  Previous_Payment_March                   0.055145   \n",
       "6     Repayment_Status_Feb                   0.032313   \n",
       "21    Previous_Payment_May                   0.046644   \n",
       "20  Previous_Payment_April                   0.038506   \n",
       "7   Repayment_Status_March                   0.005787   \n",
       "2   Academic_Qualification                   0.023392   \n",
       "9     Repayment_Status_May                   0.007973   \n",
       "8   Repayment_Status_April                   0.003315   \n",
       "3                  Marital                   0.015830   \n",
       "10   Repayment_Status_June                   0.007564   \n",
       "1                   Gender                   0.011222   \n",
       "\n",
       "    Importance (RandomForest)  Boruta-Support  RFE-Support  \n",
       "5                    0.088339            True         True  \n",
       "4                    0.069788           False         True  \n",
       "11                   0.064325           False         True  \n",
       "12                   0.057887           False         True  \n",
       "0                    0.055823           False        False  \n",
       "13                   0.054712           False         True  \n",
       "14                   0.053650           False         True  \n",
       "16                   0.053014           False         True  \n",
       "15                   0.052805           False         True  \n",
       "17                   0.050649           False         True  \n",
       "18                   0.049489           False         True  \n",
       "22                   0.047549           False        False  \n",
       "19                   0.047223           False        False  \n",
       "6                    0.045429            True        False  \n",
       "21                   0.044628           False        False  \n",
       "20                   0.044526           False        False  \n",
       "7                    0.025769           False        False  \n",
       "2                    0.021470           False        False  \n",
       "9                    0.016878           False        False  \n",
       "8                    0.015707           False        False  \n",
       "3                    0.014307           False        False  \n",
       "10                   0.013948           False        False  \n",
       "1                    0.012085           False        False  "
      ]
     },
     "execution_count": 94,
     "metadata": {},
     "output_type": "execute_result"
    }
   ],
   "source": [
    "Feature_selection = pd.DataFrame({\"Feauture\": CCDP_x.columns,\"Importance(Decision Tree)\": dtree_fi.feature_importances_, \"Importance (RandomForest)\": rfc_fi.feature_importances_,\n",
    "                                 \"Boruta-Support\": boruta_feature_selector.support_,\"RFE-Support\": rfe_rfc.support_ })\n",
    "Feature_selection.sort_values(by=['Importance (RandomForest)'], ascending=False)"
   ]
  },
  {
   "cell_type": "markdown",
   "metadata": {},
   "source": [
    "From here we observe that Martial and Gender are Least Desirable so we are removing them"
   ]
  },
  {
   "cell_type": "code",
   "execution_count": 67,
   "metadata": {},
   "outputs": [],
   "source": [
    "new_CCDP_x_train = CCDP_xtrain.drop(['Marital','Gender'],axis=1)\n",
    "new_CCDP_x_test  = CCDP_x_test.drop(['Marital','Gender'],axis=1)\n"
   ]
  },
  {
   "cell_type": "markdown",
   "metadata": {},
   "source": [
    "# Step 7 Rebuilding the models "
   ]
  },
  {
   "cell_type": "markdown",
   "metadata": {},
   "source": [
    "##  7.1 Imports"
   ]
  },
  {
   "cell_type": "code",
   "execution_count": 95,
   "metadata": {},
   "outputs": [],
   "source": [
    "import sklearn\n",
    "from sklearn.linear_model import LogisticRegression\n",
    "from sklearn.tree import DecisionTreeClassifier\n",
    "from sklearn.ensemble import RandomForestClassifier\n",
    "from sklearn.naive_bayes import MultinomialNB\n",
    "from sklearn.svm import SVC\n",
    "from sklearn.ensemble import AdaBoostClassifier"
   ]
  },
  {
   "cell_type": "markdown",
   "metadata": {},
   "source": [
    "## 7.2 Creating instances of all the models at once"
   ]
  },
  {
   "cell_type": "code",
   "execution_count": 96,
   "metadata": {},
   "outputs": [],
   "source": [
    "logisticmodel2 = LogisticRegression()\n",
    "dtree2         = DecisionTreeClassifier()\n",
    "rfc2           = RandomForestClassifier(n_estimators=50)\n",
    "abc2           = AdaBoostClassifier(DecisionTreeClassifier(),n_estimators=15)\n",
    "knn2           = KNeighborsClassifier(n_neighbors=5)\n",
    "clf2           = GradientBoostingClassifier(random_state=126)\n",
    "model2         = XGBClassifier()\n",
    "svc_model2     = SVC()"
   ]
  },
  {
   "cell_type": "markdown",
   "metadata": {},
   "source": [
    "## 7.3 Fitting the Training and Testing Data in all the models at once"
   ]
  },
  {
   "cell_type": "code",
   "execution_count": 97,
   "metadata": {},
   "outputs": [
    {
     "name": "stderr",
     "output_type": "stream",
     "text": [
      "C:\\ProgramData\\Anaconda3\\lib\\site-packages\\sklearn\\utils\\validation.py:72: DataConversionWarning: A column-vector y was passed when a 1d array was expected. Please change the shape of y to (n_samples, ), for example using ravel().\n",
      "  return f(**kwargs)\n",
      "C:\\ProgramData\\Anaconda3\\lib\\site-packages\\sklearn\\linear_model\\_logistic.py:762: ConvergenceWarning: lbfgs failed to converge (status=1):\n",
      "STOP: TOTAL NO. of ITERATIONS REACHED LIMIT.\n",
      "\n",
      "Increase the number of iterations (max_iter) or scale the data as shown in:\n",
      "    https://scikit-learn.org/stable/modules/preprocessing.html\n",
      "Please also refer to the documentation for alternative solver options:\n",
      "    https://scikit-learn.org/stable/modules/linear_model.html#logistic-regression\n",
      "  n_iter_i = _check_optimize_result(\n",
      "<ipython-input-97-f7846c7a473c>:3: DataConversionWarning: A column-vector y was passed when a 1d array was expected. Please change the shape of y to (n_samples,), for example using ravel().\n",
      "  rfc2.fit(new_CCDP_x_train,CCDP_ytrain)\n",
      "C:\\ProgramData\\Anaconda3\\lib\\site-packages\\sklearn\\utils\\validation.py:72: DataConversionWarning: A column-vector y was passed when a 1d array was expected. Please change the shape of y to (n_samples, ), for example using ravel().\n",
      "  return f(**kwargs)\n",
      "<ipython-input-97-f7846c7a473c>:5: DataConversionWarning: A column-vector y was passed when a 1d array was expected. Please change the shape of y to (n_samples, ), for example using ravel().\n",
      "  knn2.fit(new_CCDP_x_train,CCDP_ytrain)\n",
      "C:\\ProgramData\\Anaconda3\\lib\\site-packages\\sklearn\\utils\\validation.py:72: DataConversionWarning: A column-vector y was passed when a 1d array was expected. Please change the shape of y to (n_samples, ), for example using ravel().\n",
      "  return f(**kwargs)\n",
      "C:\\ProgramData\\Anaconda3\\lib\\site-packages\\xgboost\\sklearn.py:892: UserWarning: The use of label encoder in XGBClassifier is deprecated and will be removed in a future release. To remove this warning, do the following: 1) Pass option use_label_encoder=False when constructing XGBClassifier object; and 2) Encode your labels (y) as integers starting with 0, i.e. 0, 1, 2, ..., [num_class - 1].\n",
      "  warnings.warn(label_encoder_deprecation_msg, UserWarning)\n",
      "C:\\ProgramData\\Anaconda3\\lib\\site-packages\\sklearn\\utils\\validation.py:72: DataConversionWarning: A column-vector y was passed when a 1d array was expected. Please change the shape of y to (n_samples, ), for example using ravel().\n",
      "  return f(**kwargs)\n"
     ]
    },
    {
     "name": "stdout",
     "output_type": "stream",
     "text": [
      "[23:24:15] WARNING: C:/Users/Administrator/workspace/xgboost-win64_release_1.3.0/src/learner.cc:1061: Starting in XGBoost 1.3.0, the default evaluation metric used with the objective 'binary:logistic' was changed from 'error' to 'logloss'. Explicitly set eval_metric if you'd like to restore the old behavior.\n"
     ]
    },
    {
     "name": "stderr",
     "output_type": "stream",
     "text": [
      "C:\\ProgramData\\Anaconda3\\lib\\site-packages\\sklearn\\utils\\validation.py:72: DataConversionWarning: A column-vector y was passed when a 1d array was expected. Please change the shape of y to (n_samples, ), for example using ravel().\n",
      "  return f(**kwargs)\n"
     ]
    },
    {
     "data": {
      "text/plain": [
       "SVC()"
      ]
     },
     "execution_count": 97,
     "metadata": {},
     "output_type": "execute_result"
    }
   ],
   "source": [
    "logisticmodel2.fit(new_CCDP_x_train,CCDP_ytrain)\n",
    "dtree2.fit(new_CCDP_x_train,CCDP_ytrain)\n",
    "rfc2.fit(new_CCDP_x_train,CCDP_ytrain)\n",
    "abc2.fit(new_CCDP_x_train,CCDP_ytrain)\n",
    "knn2.fit(new_CCDP_x_train,CCDP_ytrain)\n",
    "clf2.fit(new_CCDP_x_train,CCDP_ytrain)\n",
    "model2.fit(new_CCDP_x_train,CCDP_ytrain)\n",
    "svc_model2.fit(new_CCDP_x_train,CCDP_ytrain)"
   ]
  },
  {
   "cell_type": "markdown",
   "metadata": {},
   "source": [
    "## 7.4 Predictions on new models"
   ]
  },
  {
   "cell_type": "code",
   "execution_count": 98,
   "metadata": {},
   "outputs": [],
   "source": [
    "prediction_logistic2 = logisticmodel2.predict(new_CCDP_x_test)\n",
    "prediction_dt2       = dtree2.predict(new_CCDP_x_test)\n",
    "prediction_rfc2      = rfc2.predict(new_CCDP_x_test)\n",
    "prediction_abc2      = abc2.predict(new_CCDP_x_test)\n",
    "prediction_clf2      = clf2.predict(new_CCDP_x_test)\n",
    "prediction_knn2      = knn2.predict(new_CCDP_x_test)\n",
    "prediction_XGB2      = model2.predict(new_CCDP_x_test)\n",
    "prediction_SVM2      = svc_model2.predict(new_CCDP_x_test)"
   ]
  },
  {
   "cell_type": "markdown",
   "metadata": {},
   "source": [
    "# Step 8 Evaluating/Comparing the new Models Accuracy"
   ]
  },
  {
   "cell_type": "markdown",
   "metadata": {},
   "source": [
    "## 8.1 Accuracy"
   ]
  },
  {
   "cell_type": "code",
   "execution_count": 99,
   "metadata": {},
   "outputs": [],
   "source": [
    "from sklearn.metrics import accuracy_score\n",
    "Acc1_Logistic2       = accuracy_score(CCDP_y_test,prediction_logistic2)\n",
    "Acc2_Decision_Tree2  = accuracy_score(CCDP_y_test,prediction_dt2)\n",
    "Acc3_Random_Forest2  = accuracy_score(CCDP_y_test,prediction_rfc2)\n",
    "Acc4_Ada_Boost2      = accuracy_score(CCDP_y_test,prediction_abc2)\n",
    "Acc5_KNN2            = accuracy_score(CCDP_y_test,prediction_knn2)\n",
    "Acc6_Gradient_Boost2 = accuracy_score(CCDP_y_test,prediction_clf2)\n",
    "Acc7_XGBoost2        = accuracy_score(CCDP_y_test,prediction_XGB2)\n",
    "Acc8_SVM2            = accuracy_score(CCDP_y_test,prediction_SVM2)\n",
    "Accuracy_all2        = [Acc1_Logistic2,Acc2_Decision_Tree2,Acc3_Random_Forest2,Acc4_Ada_Boost2,Acc5_KNN2,Acc6_Gradient_Boost2,Acc7_XGBoost2,Acc8_SVM2]"
   ]
  },
  {
   "cell_type": "code",
   "execution_count": 74,
   "metadata": {},
   "outputs": [
    {
     "name": "stdout",
     "output_type": "stream",
     "text": [
      "[0.6841666666666667, 0.7048333333333333, 0.7943333333333333, 0.7593333333333333, 0.6056666666666667, 0.7741666666666667, 0.7916666666666666]\n"
     ]
    }
   ],
   "source": []
  },
  {
   "cell_type": "markdown",
   "metadata": {},
   "source": [
    "## 8.2 Precision Score"
   ]
  },
  {
   "cell_type": "code",
   "execution_count": 100,
   "metadata": {},
   "outputs": [],
   "source": [
    "from sklearn.metrics import precision_score\n",
    "Prec1_Logistic2       = precision_score(CCDP_y_test,prediction_logistic2)\n",
    "Prec2_Decision_Tree2  = precision_score(CCDP_y_test,prediction_dt2)\n",
    "Prec3_Random_Forest2  = precision_score(CCDP_y_test,prediction_rfc2)\n",
    "Prec4_Ada_Boost2      = precision_score(CCDP_y_test,prediction_abc2)\n",
    "Prec5_KNN2            = precision_score(CCDP_y_test,prediction_knn2)\n",
    "Prec6_Gradient_Boost2 = precision_score(CCDP_y_test,prediction_clf2)\n",
    "Prec7_XGBoost2        = precision_score(CCDP_y_test,prediction_XGB2)\n",
    "Prec8_SVM2            = precision_score(CCDP_y_test,prediction_SVM2)\n",
    "Precision_all2        = [Prec1_Logistic2,Prec2_Decision_Tree2,Prec3_Random_Forest2,Prec4_Ada_Boost2,Prec5_KNN2,Prec6_Gradient_Boost2,Prec7_XGBoost2,Prec8_SVM2]"
   ]
  },
  {
   "cell_type": "markdown",
   "metadata": {},
   "source": [
    "## 8.3 Recall Score"
   ]
  },
  {
   "cell_type": "code",
   "execution_count": 101,
   "metadata": {},
   "outputs": [],
   "source": [
    "from sklearn.metrics import recall_score\n",
    "Sens1_Logistic2       = recall_score(CCDP_y_test,prediction_logistic2)\n",
    "Sens2_Decision_Tree2  = recall_score(CCDP_y_test,prediction_dt2)\n",
    "Sens3_Random_Forest2  = recall_score(CCDP_y_test,prediction_rfc2)\n",
    "Sens4_Ada_Boost2      = recall_score(CCDP_y_test,prediction_abc2)\n",
    "Sens5_KNN2            = recall_score(CCDP_y_test,prediction_knn2)\n",
    "Sens6_Gradient_Boost2 = recall_score(CCDP_y_test,prediction_clf2)\n",
    "Sens7_XGBoost2        = recall_score(CCDP_y_test,prediction_XGB2)\n",
    "Sens8_SVM2            = recall_score(CCDP_y_test,prediction_SVM2)\n",
    "Recall_all2           =[Sens1_Logistic2,Sens2_Decision_Tree2,Sens3_Random_Forest2,Sens4_Ada_Boost2,Sens5_KNN2,Sens6_Gradient_Boost2,Sens7_XGBoost2,Sens8_SVM2]"
   ]
  },
  {
   "cell_type": "markdown",
   "metadata": {},
   "source": [
    "## 8.4 Specificity"
   ]
  },
  {
   "cell_type": "code",
   "execution_count": 107,
   "metadata": {},
   "outputs": [],
   "source": [
    "from sklearn.metrics import recall_score\n",
    "Spec_Logistic2       = recall_score(CCDP_y_test,prediction_logistic2,pos_label=0)\n",
    "Spec_Decision_Tree2  = recall_score(CCDP_y_test,prediction_dt2,pos_label=0)\n",
    "Spec_Random_Forest2  = recall_score(CCDP_y_test,prediction_rfc2,pos_label=0)\n",
    "Spec_Ada_Boost2      = recall_score(CCDP_y_test,prediction_abc2,pos_label=0)\n",
    "Spec_KNN2            = recall_score(CCDP_y_test,prediction_knn2,pos_label=0)\n",
    "Spec_Gradient_Boost2 = recall_score(CCDP_y_test,prediction_clf2,pos_label=0)\n",
    "Spec_XGBoost2        = recall_score(CCDP_y_test,prediction_XGB2,pos_label=0)\n",
    "Spec_SVM2            = recall_score(CCDP_y_test,prediction_SVM2,pos_label=0)\n",
    "Spec_all            = [Spec_Logistic2,Spec_Decision_Tree2,Spec_Random_Forest2,Spec_Ada_Boost2,Spec_KNN2,Spec_Gradient_Boost2,Spec_XGBoost2,Spec_SVM2]"
   ]
  },
  {
   "cell_type": "markdown",
   "metadata": {},
   "source": [
    "## 8.5 AUROC "
   ]
  },
  {
   "cell_type": "code",
   "execution_count": 112,
   "metadata": {},
   "outputs": [],
   "source": [
    "auroc_Logistic2       = sklearn.metrics.roc_auc_score(CCDP_y_test,prediction_logistic2)\n",
    "auroc_Decision_Tree2  = sklearn.metrics.roc_auc_score(CCDP_y_test,prediction_dt2)\n",
    "auroc_Random_Forest2  = sklearn.metrics.roc_auc_score(CCDP_y_test,prediction_rfc2)\n",
    "auroc_Ada_Boost2      = sklearn.metrics.roc_auc_score(CCDP_y_test,prediction_abc2)\n",
    "auroc_KNN2            = sklearn.metrics.roc_auc_score(CCDP_y_test,prediction_knn2)\n",
    "auroc_Gradient_Boost2 = sklearn.metrics.roc_auc_score(CCDP_y_test,prediction_clf2)\n",
    "auroc_XGBoost2        = sklearn.metrics.roc_auc_score(CCDP_y_test,prediction_XGB2)\n",
    "auroc_SVM2            = sklearn.metrics.roc_auc_score(CCDP_y_test,prediction_SVM2)\n",
    "auroc_all2            = [auroc_Logistic2,auroc_Decision_Tree2,auroc_Random_Forest2,auroc_Ada_Boost2,auroc_KNN2,auroc_Gradient_Boost2,auroc_XGBoost2,auroc_SVM2]"
   ]
  },
  {
   "cell_type": "markdown",
   "metadata": {},
   "source": [
    "## 8.6 F-1 Score"
   ]
  },
  {
   "cell_type": "code",
   "execution_count": null,
   "metadata": {},
   "outputs": [],
   "source": [
    "f1_Logistic2       = sklearn.metrics.f1_score(CCDP_y_test,prediction_logistic2)\n",
    "f1_Decision_Tree2  = sklearn.metrics.f1_score(CCDP_y_test,prediction_dt2)\n",
    "f1_Random_Forest2  = sklearn.metrics.f1_score(CCDP_y_test,prediction_rfc2)\n",
    "f1_Ada_Boost2      = sklearn.metrics.f1_score(CCDP_y_test,prediction_abc2)\n",
    "f1_KNN2            = sklearn.metrics.f1_score(CCDP_y_test,prediction_knn2)\n",
    "f1_Gradient_Boost2 = sklearn.metrics.f1_score(CCDP_y_test,prediction_clf2)\n",
    "f1_XGBoost2        = sklearn.metrics.f1_score(CCDP_y_test,prediction_XGB2)\n",
    "f1_SVM2            = sklearn.metrics.f1_score(CCDP_y_test,prediction_SVM2)\n",
    "f1_all2            = [f1_Logistic2,f1_Decision_Tree2,f1_Random_Forest2,f1_Ada_Boost2,f1_KNN2,f1_Gradient_Boost2,f1_XGBoost2,f1_SVM2]"
   ]
  },
  {
   "cell_type": "code",
   "execution_count": 113,
   "metadata": {},
   "outputs": [],
   "source": [
    "Names2 = ['Logistic Regression','Decision Tree','Random Forest','Ada Boost','K-Nearest Neighbours','Gradient-Boosting','XG-Boost','SVM']\n",
    "df2 = pd.DataFrame(list(zip(Names2,Accuracy_all2,Precision_all2,Recall_all2,Spec_all,auroc_all2,f1_all2)),columns=['Model_Name', 'Accuracy', 'Precision',\"Recall/Sensitivity\",\"Specificity\",\"AUROC\",\"F-1 SCORE\"])"
   ]
  },
  {
   "cell_type": "code",
   "execution_count": 114,
   "metadata": {},
   "outputs": [
    {
     "data": {
      "text/html": [
       "<div>\n",
       "<style scoped>\n",
       "    .dataframe tbody tr th:only-of-type {\n",
       "        vertical-align: middle;\n",
       "    }\n",
       "\n",
       "    .dataframe tbody tr th {\n",
       "        vertical-align: top;\n",
       "    }\n",
       "\n",
       "    .dataframe thead th {\n",
       "        text-align: right;\n",
       "    }\n",
       "</style>\n",
       "<table border=\"1\" class=\"dataframe\">\n",
       "  <thead>\n",
       "    <tr style=\"text-align: right;\">\n",
       "      <th></th>\n",
       "      <th>Model_Name</th>\n",
       "      <th>Accuracy</th>\n",
       "      <th>Precision</th>\n",
       "      <th>Recall/Sensitivity</th>\n",
       "      <th>Specificity</th>\n",
       "      <th>AUROC</th>\n",
       "      <th>F-1 SCORE</th>\n",
       "    </tr>\n",
       "  </thead>\n",
       "  <tbody>\n",
       "    <tr>\n",
       "      <th>2</th>\n",
       "      <td>Random Forest</td>\n",
       "      <td>0.796000</td>\n",
       "      <td>0.523598</td>\n",
       "      <td>0.460454</td>\n",
       "      <td>0.886725</td>\n",
       "      <td>0.673589</td>\n",
       "      <td>0.490000</td>\n",
       "    </tr>\n",
       "    <tr>\n",
       "      <th>6</th>\n",
       "      <td>XG-Boost</td>\n",
       "      <td>0.791667</td>\n",
       "      <td>0.511709</td>\n",
       "      <td>0.462020</td>\n",
       "      <td>0.880796</td>\n",
       "      <td>0.671408</td>\n",
       "      <td>0.485597</td>\n",
       "    </tr>\n",
       "    <tr>\n",
       "      <th>5</th>\n",
       "      <td>Gradient-Boosting</td>\n",
       "      <td>0.774167</td>\n",
       "      <td>0.474342</td>\n",
       "      <td>0.564605</td>\n",
       "      <td>0.830828</td>\n",
       "      <td>0.697716</td>\n",
       "      <td>0.515552</td>\n",
       "    </tr>\n",
       "    <tr>\n",
       "      <th>3</th>\n",
       "      <td>Ada Boost</td>\n",
       "      <td>0.744167</td>\n",
       "      <td>0.410788</td>\n",
       "      <td>0.465153</td>\n",
       "      <td>0.819606</td>\n",
       "      <td>0.642379</td>\n",
       "      <td>0.436284</td>\n",
       "    </tr>\n",
       "    <tr>\n",
       "      <th>1</th>\n",
       "      <td>Decision Tree</td>\n",
       "      <td>0.704000</td>\n",
       "      <td>0.349608</td>\n",
       "      <td>0.454190</td>\n",
       "      <td>0.771544</td>\n",
       "      <td>0.612867</td>\n",
       "      <td>0.395095</td>\n",
       "    </tr>\n",
       "    <tr>\n",
       "      <th>0</th>\n",
       "      <td>Logistic Regression</td>\n",
       "      <td>0.684167</td>\n",
       "      <td>0.308787</td>\n",
       "      <td>0.390760</td>\n",
       "      <td>0.763498</td>\n",
       "      <td>0.577129</td>\n",
       "      <td>0.344971</td>\n",
       "    </tr>\n",
       "    <tr>\n",
       "      <th>4</th>\n",
       "      <td>K-Nearest Neighbours</td>\n",
       "      <td>0.605667</td>\n",
       "      <td>0.278388</td>\n",
       "      <td>0.535630</td>\n",
       "      <td>0.624603</td>\n",
       "      <td>0.580117</td>\n",
       "      <td>0.366363</td>\n",
       "    </tr>\n",
       "    <tr>\n",
       "      <th>7</th>\n",
       "      <td>SVM</td>\n",
       "      <td>0.579333</td>\n",
       "      <td>0.289855</td>\n",
       "      <td>0.673453</td>\n",
       "      <td>0.553885</td>\n",
       "      <td>0.613669</td>\n",
       "      <td>0.405278</td>\n",
       "    </tr>\n",
       "  </tbody>\n",
       "</table>\n",
       "</div>"
      ],
      "text/plain": [
       "             Model_Name  Accuracy  Precision  Recall/Sensitivity  Specificity  \\\n",
       "2         Random Forest  0.796000   0.523598            0.460454     0.886725   \n",
       "6              XG-Boost  0.791667   0.511709            0.462020     0.880796   \n",
       "5     Gradient-Boosting  0.774167   0.474342            0.564605     0.830828   \n",
       "3             Ada Boost  0.744167   0.410788            0.465153     0.819606   \n",
       "1         Decision Tree  0.704000   0.349608            0.454190     0.771544   \n",
       "0   Logistic Regression  0.684167   0.308787            0.390760     0.763498   \n",
       "4  K-Nearest Neighbours  0.605667   0.278388            0.535630     0.624603   \n",
       "7                   SVM  0.579333   0.289855            0.673453     0.553885   \n",
       "\n",
       "      AUROC  F-1 SCORE  \n",
       "2  0.673589   0.490000  \n",
       "6  0.671408   0.485597  \n",
       "5  0.697716   0.515552  \n",
       "3  0.642379   0.436284  \n",
       "1  0.612867   0.395095  \n",
       "0  0.577129   0.344971  \n",
       "4  0.580117   0.366363  \n",
       "7  0.613669   0.405278  "
      ]
     },
     "execution_count": 114,
     "metadata": {},
     "output_type": "execute_result"
    }
   ],
   "source": [
    "df2.sort_values(by=['Accuracy'], ascending=False)"
   ]
  },
  {
   "cell_type": "markdown",
   "metadata": {},
   "source": [
    "## From the Above Model Comparisons we have selected Random Forest as our Final Model but as a backup we have also kept Gradient Boosting"
   ]
  },
  {
   "cell_type": "markdown",
   "metadata": {},
   "source": [
    "# **********************************THE END******************************************** "
   ]
  },
  {
   "cell_type": "code",
   "execution_count": null,
   "metadata": {},
   "outputs": [],
   "source": []
  },
  {
   "cell_type": "code",
   "execution_count": null,
   "metadata": {},
   "outputs": [],
   "source": []
  }
 ],
 "metadata": {
  "kernelspec": {
   "display_name": "Python 3",
   "language": "python",
   "name": "python3"
  },
  "language_info": {
   "codemirror_mode": {
    "name": "ipython",
    "version": 3
   },
   "file_extension": ".py",
   "mimetype": "text/x-python",
   "name": "python",
   "nbconvert_exporter": "python",
   "pygments_lexer": "ipython3",
   "version": "3.8.5"
  }
 },
 "nbformat": 4,
 "nbformat_minor": 4
}
